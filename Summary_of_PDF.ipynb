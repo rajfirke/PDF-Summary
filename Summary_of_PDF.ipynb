{
  "nbformat": 4,
  "nbformat_minor": 0,
  "metadata": {
    "colab": {
      "provenance": [],
      "include_colab_link": true
    },
    "kernelspec": {
      "name": "python3",
      "display_name": "Python 3"
    },
    "language_info": {
      "name": "python"
    },
    "widgets": {
      "application/vnd.jupyter.widget-state+json": {
        "ef1cb2de905f448884b0d2e001176bd4": {
          "model_module": "@jupyter-widgets/controls",
          "model_name": "HBoxModel",
          "model_module_version": "1.5.0",
          "state": {
            "_dom_classes": [],
            "_model_module": "@jupyter-widgets/controls",
            "_model_module_version": "1.5.0",
            "_model_name": "HBoxModel",
            "_view_count": null,
            "_view_module": "@jupyter-widgets/controls",
            "_view_module_version": "1.5.0",
            "_view_name": "HBoxView",
            "box_style": "",
            "children": [
              "IPY_MODEL_2aee9b4a1155456c813cce3aef3d47d5",
              "IPY_MODEL_3fc3c8bb1f324fc4bfbcbc3bfa359585",
              "IPY_MODEL_9186d95c50974a5cbe98e79b33208fb0"
            ],
            "layout": "IPY_MODEL_b55c66a7bdc54a10968ab2915f920c19"
          }
        },
        "2aee9b4a1155456c813cce3aef3d47d5": {
          "model_module": "@jupyter-widgets/controls",
          "model_name": "HTMLModel",
          "model_module_version": "1.5.0",
          "state": {
            "_dom_classes": [],
            "_model_module": "@jupyter-widgets/controls",
            "_model_module_version": "1.5.0",
            "_model_name": "HTMLModel",
            "_view_count": null,
            "_view_module": "@jupyter-widgets/controls",
            "_view_module_version": "1.5.0",
            "_view_name": "HTMLView",
            "description": "",
            "description_tooltip": null,
            "layout": "IPY_MODEL_82df000513484584b4d814ebcca5f11d",
            "placeholder": "​",
            "style": "IPY_MODEL_029c9c6249934ebf8a13b9fb752e9ed2",
            "value": "tokenizer_config.json: 100%"
          }
        },
        "3fc3c8bb1f324fc4bfbcbc3bfa359585": {
          "model_module": "@jupyter-widgets/controls",
          "model_name": "FloatProgressModel",
          "model_module_version": "1.5.0",
          "state": {
            "_dom_classes": [],
            "_model_module": "@jupyter-widgets/controls",
            "_model_module_version": "1.5.0",
            "_model_name": "FloatProgressModel",
            "_view_count": null,
            "_view_module": "@jupyter-widgets/controls",
            "_view_module_version": "1.5.0",
            "_view_name": "ProgressView",
            "bar_style": "success",
            "description": "",
            "description_tooltip": null,
            "layout": "IPY_MODEL_e4b983f8f9d14e008e794a44eaffe058",
            "max": 1946,
            "min": 0,
            "orientation": "horizontal",
            "style": "IPY_MODEL_328cdce834ce43c8802c6613c6ca2230",
            "value": 1946
          }
        },
        "9186d95c50974a5cbe98e79b33208fb0": {
          "model_module": "@jupyter-widgets/controls",
          "model_name": "HTMLModel",
          "model_module_version": "1.5.0",
          "state": {
            "_dom_classes": [],
            "_model_module": "@jupyter-widgets/controls",
            "_model_module_version": "1.5.0",
            "_model_name": "HTMLModel",
            "_view_count": null,
            "_view_module": "@jupyter-widgets/controls",
            "_view_module_version": "1.5.0",
            "_view_name": "HTMLView",
            "description": "",
            "description_tooltip": null,
            "layout": "IPY_MODEL_b02f00bb4c29469a9ba00544e6807aac",
            "placeholder": "​",
            "style": "IPY_MODEL_6de909587b9246998d0db15d155bb116",
            "value": " 1.95k/1.95k [00:00&lt;00:00, 34.3kB/s]"
          }
        },
        "b55c66a7bdc54a10968ab2915f920c19": {
          "model_module": "@jupyter-widgets/base",
          "model_name": "LayoutModel",
          "model_module_version": "1.2.0",
          "state": {
            "_model_module": "@jupyter-widgets/base",
            "_model_module_version": "1.2.0",
            "_model_name": "LayoutModel",
            "_view_count": null,
            "_view_module": "@jupyter-widgets/base",
            "_view_module_version": "1.2.0",
            "_view_name": "LayoutView",
            "align_content": null,
            "align_items": null,
            "align_self": null,
            "border": null,
            "bottom": null,
            "display": null,
            "flex": null,
            "flex_flow": null,
            "grid_area": null,
            "grid_auto_columns": null,
            "grid_auto_flow": null,
            "grid_auto_rows": null,
            "grid_column": null,
            "grid_gap": null,
            "grid_row": null,
            "grid_template_areas": null,
            "grid_template_columns": null,
            "grid_template_rows": null,
            "height": null,
            "justify_content": null,
            "justify_items": null,
            "left": null,
            "margin": null,
            "max_height": null,
            "max_width": null,
            "min_height": null,
            "min_width": null,
            "object_fit": null,
            "object_position": null,
            "order": null,
            "overflow": null,
            "overflow_x": null,
            "overflow_y": null,
            "padding": null,
            "right": null,
            "top": null,
            "visibility": null,
            "width": null
          }
        },
        "82df000513484584b4d814ebcca5f11d": {
          "model_module": "@jupyter-widgets/base",
          "model_name": "LayoutModel",
          "model_module_version": "1.2.0",
          "state": {
            "_model_module": "@jupyter-widgets/base",
            "_model_module_version": "1.2.0",
            "_model_name": "LayoutModel",
            "_view_count": null,
            "_view_module": "@jupyter-widgets/base",
            "_view_module_version": "1.2.0",
            "_view_name": "LayoutView",
            "align_content": null,
            "align_items": null,
            "align_self": null,
            "border": null,
            "bottom": null,
            "display": null,
            "flex": null,
            "flex_flow": null,
            "grid_area": null,
            "grid_auto_columns": null,
            "grid_auto_flow": null,
            "grid_auto_rows": null,
            "grid_column": null,
            "grid_gap": null,
            "grid_row": null,
            "grid_template_areas": null,
            "grid_template_columns": null,
            "grid_template_rows": null,
            "height": null,
            "justify_content": null,
            "justify_items": null,
            "left": null,
            "margin": null,
            "max_height": null,
            "max_width": null,
            "min_height": null,
            "min_width": null,
            "object_fit": null,
            "object_position": null,
            "order": null,
            "overflow": null,
            "overflow_x": null,
            "overflow_y": null,
            "padding": null,
            "right": null,
            "top": null,
            "visibility": null,
            "width": null
          }
        },
        "029c9c6249934ebf8a13b9fb752e9ed2": {
          "model_module": "@jupyter-widgets/controls",
          "model_name": "DescriptionStyleModel",
          "model_module_version": "1.5.0",
          "state": {
            "_model_module": "@jupyter-widgets/controls",
            "_model_module_version": "1.5.0",
            "_model_name": "DescriptionStyleModel",
            "_view_count": null,
            "_view_module": "@jupyter-widgets/base",
            "_view_module_version": "1.2.0",
            "_view_name": "StyleView",
            "description_width": ""
          }
        },
        "e4b983f8f9d14e008e794a44eaffe058": {
          "model_module": "@jupyter-widgets/base",
          "model_name": "LayoutModel",
          "model_module_version": "1.2.0",
          "state": {
            "_model_module": "@jupyter-widgets/base",
            "_model_module_version": "1.2.0",
            "_model_name": "LayoutModel",
            "_view_count": null,
            "_view_module": "@jupyter-widgets/base",
            "_view_module_version": "1.2.0",
            "_view_name": "LayoutView",
            "align_content": null,
            "align_items": null,
            "align_self": null,
            "border": null,
            "bottom": null,
            "display": null,
            "flex": null,
            "flex_flow": null,
            "grid_area": null,
            "grid_auto_columns": null,
            "grid_auto_flow": null,
            "grid_auto_rows": null,
            "grid_column": null,
            "grid_gap": null,
            "grid_row": null,
            "grid_template_areas": null,
            "grid_template_columns": null,
            "grid_template_rows": null,
            "height": null,
            "justify_content": null,
            "justify_items": null,
            "left": null,
            "margin": null,
            "max_height": null,
            "max_width": null,
            "min_height": null,
            "min_width": null,
            "object_fit": null,
            "object_position": null,
            "order": null,
            "overflow": null,
            "overflow_x": null,
            "overflow_y": null,
            "padding": null,
            "right": null,
            "top": null,
            "visibility": null,
            "width": null
          }
        },
        "328cdce834ce43c8802c6613c6ca2230": {
          "model_module": "@jupyter-widgets/controls",
          "model_name": "ProgressStyleModel",
          "model_module_version": "1.5.0",
          "state": {
            "_model_module": "@jupyter-widgets/controls",
            "_model_module_version": "1.5.0",
            "_model_name": "ProgressStyleModel",
            "_view_count": null,
            "_view_module": "@jupyter-widgets/base",
            "_view_module_version": "1.2.0",
            "_view_name": "StyleView",
            "bar_color": null,
            "description_width": ""
          }
        },
        "b02f00bb4c29469a9ba00544e6807aac": {
          "model_module": "@jupyter-widgets/base",
          "model_name": "LayoutModel",
          "model_module_version": "1.2.0",
          "state": {
            "_model_module": "@jupyter-widgets/base",
            "_model_module_version": "1.2.0",
            "_model_name": "LayoutModel",
            "_view_count": null,
            "_view_module": "@jupyter-widgets/base",
            "_view_module_version": "1.2.0",
            "_view_name": "LayoutView",
            "align_content": null,
            "align_items": null,
            "align_self": null,
            "border": null,
            "bottom": null,
            "display": null,
            "flex": null,
            "flex_flow": null,
            "grid_area": null,
            "grid_auto_columns": null,
            "grid_auto_flow": null,
            "grid_auto_rows": null,
            "grid_column": null,
            "grid_gap": null,
            "grid_row": null,
            "grid_template_areas": null,
            "grid_template_columns": null,
            "grid_template_rows": null,
            "height": null,
            "justify_content": null,
            "justify_items": null,
            "left": null,
            "margin": null,
            "max_height": null,
            "max_width": null,
            "min_height": null,
            "min_width": null,
            "object_fit": null,
            "object_position": null,
            "order": null,
            "overflow": null,
            "overflow_x": null,
            "overflow_y": null,
            "padding": null,
            "right": null,
            "top": null,
            "visibility": null,
            "width": null
          }
        },
        "6de909587b9246998d0db15d155bb116": {
          "model_module": "@jupyter-widgets/controls",
          "model_name": "DescriptionStyleModel",
          "model_module_version": "1.5.0",
          "state": {
            "_model_module": "@jupyter-widgets/controls",
            "_model_module_version": "1.5.0",
            "_model_name": "DescriptionStyleModel",
            "_view_count": null,
            "_view_module": "@jupyter-widgets/base",
            "_view_module_version": "1.2.0",
            "_view_name": "StyleView",
            "description_width": ""
          }
        },
        "756235c0223d4891bd1386bbadc04f09": {
          "model_module": "@jupyter-widgets/controls",
          "model_name": "HBoxModel",
          "model_module_version": "1.5.0",
          "state": {
            "_dom_classes": [],
            "_model_module": "@jupyter-widgets/controls",
            "_model_module_version": "1.5.0",
            "_model_name": "HBoxModel",
            "_view_count": null,
            "_view_module": "@jupyter-widgets/controls",
            "_view_module_version": "1.5.0",
            "_view_name": "HBoxView",
            "box_style": "",
            "children": [
              "IPY_MODEL_644e2ce65967441a9845c762f4087954",
              "IPY_MODEL_2a10bd06fa4d46e7b42408596ee38bc5",
              "IPY_MODEL_f978726f12684313b8e6ec58e20df6e6"
            ],
            "layout": "IPY_MODEL_ec65f8b0b0f24c32be4b31b5c69c6dd6"
          }
        },
        "644e2ce65967441a9845c762f4087954": {
          "model_module": "@jupyter-widgets/controls",
          "model_name": "HTMLModel",
          "model_module_version": "1.5.0",
          "state": {
            "_dom_classes": [],
            "_model_module": "@jupyter-widgets/controls",
            "_model_module_version": "1.5.0",
            "_model_name": "HTMLModel",
            "_view_count": null,
            "_view_module": "@jupyter-widgets/controls",
            "_view_module_version": "1.5.0",
            "_view_name": "HTMLView",
            "description": "",
            "description_tooltip": null,
            "layout": "IPY_MODEL_0c6a0afb00b3451d920d0757161e5fc4",
            "placeholder": "​",
            "style": "IPY_MODEL_03eb33e43ad64178910fff71bde328b4",
            "value": "tokenizer.json: 100%"
          }
        },
        "2a10bd06fa4d46e7b42408596ee38bc5": {
          "model_module": "@jupyter-widgets/controls",
          "model_name": "FloatProgressModel",
          "model_module_version": "1.5.0",
          "state": {
            "_dom_classes": [],
            "_model_module": "@jupyter-widgets/controls",
            "_model_module_version": "1.5.0",
            "_model_name": "FloatProgressModel",
            "_view_count": null,
            "_view_module": "@jupyter-widgets/controls",
            "_view_module_version": "1.5.0",
            "_view_name": "ProgressView",
            "bar_style": "success",
            "description": "",
            "description_tooltip": null,
            "layout": "IPY_MODEL_1848863be1cf47c299a88102e075473b",
            "max": 1387489,
            "min": 0,
            "orientation": "horizontal",
            "style": "IPY_MODEL_c3c7f2cae72c448bbfac213b42006256",
            "value": 1387489
          }
        },
        "f978726f12684313b8e6ec58e20df6e6": {
          "model_module": "@jupyter-widgets/controls",
          "model_name": "HTMLModel",
          "model_module_version": "1.5.0",
          "state": {
            "_dom_classes": [],
            "_model_module": "@jupyter-widgets/controls",
            "_model_module_version": "1.5.0",
            "_model_name": "HTMLModel",
            "_view_count": null,
            "_view_module": "@jupyter-widgets/controls",
            "_view_module_version": "1.5.0",
            "_view_name": "HTMLView",
            "description": "",
            "description_tooltip": null,
            "layout": "IPY_MODEL_615815d2b58e4392a2adcc0d49036b4c",
            "placeholder": "​",
            "style": "IPY_MODEL_9b99cfdee1054b169456b1c7a3f0ed77",
            "value": " 1.39M/1.39M [00:00&lt;00:00, 1.42MB/s]"
          }
        },
        "ec65f8b0b0f24c32be4b31b5c69c6dd6": {
          "model_module": "@jupyter-widgets/base",
          "model_name": "LayoutModel",
          "model_module_version": "1.2.0",
          "state": {
            "_model_module": "@jupyter-widgets/base",
            "_model_module_version": "1.2.0",
            "_model_name": "LayoutModel",
            "_view_count": null,
            "_view_module": "@jupyter-widgets/base",
            "_view_module_version": "1.2.0",
            "_view_name": "LayoutView",
            "align_content": null,
            "align_items": null,
            "align_self": null,
            "border": null,
            "bottom": null,
            "display": null,
            "flex": null,
            "flex_flow": null,
            "grid_area": null,
            "grid_auto_columns": null,
            "grid_auto_flow": null,
            "grid_auto_rows": null,
            "grid_column": null,
            "grid_gap": null,
            "grid_row": null,
            "grid_template_areas": null,
            "grid_template_columns": null,
            "grid_template_rows": null,
            "height": null,
            "justify_content": null,
            "justify_items": null,
            "left": null,
            "margin": null,
            "max_height": null,
            "max_width": null,
            "min_height": null,
            "min_width": null,
            "object_fit": null,
            "object_position": null,
            "order": null,
            "overflow": null,
            "overflow_x": null,
            "overflow_y": null,
            "padding": null,
            "right": null,
            "top": null,
            "visibility": null,
            "width": null
          }
        },
        "0c6a0afb00b3451d920d0757161e5fc4": {
          "model_module": "@jupyter-widgets/base",
          "model_name": "LayoutModel",
          "model_module_version": "1.2.0",
          "state": {
            "_model_module": "@jupyter-widgets/base",
            "_model_module_version": "1.2.0",
            "_model_name": "LayoutModel",
            "_view_count": null,
            "_view_module": "@jupyter-widgets/base",
            "_view_module_version": "1.2.0",
            "_view_name": "LayoutView",
            "align_content": null,
            "align_items": null,
            "align_self": null,
            "border": null,
            "bottom": null,
            "display": null,
            "flex": null,
            "flex_flow": null,
            "grid_area": null,
            "grid_auto_columns": null,
            "grid_auto_flow": null,
            "grid_auto_rows": null,
            "grid_column": null,
            "grid_gap": null,
            "grid_row": null,
            "grid_template_areas": null,
            "grid_template_columns": null,
            "grid_template_rows": null,
            "height": null,
            "justify_content": null,
            "justify_items": null,
            "left": null,
            "margin": null,
            "max_height": null,
            "max_width": null,
            "min_height": null,
            "min_width": null,
            "object_fit": null,
            "object_position": null,
            "order": null,
            "overflow": null,
            "overflow_x": null,
            "overflow_y": null,
            "padding": null,
            "right": null,
            "top": null,
            "visibility": null,
            "width": null
          }
        },
        "03eb33e43ad64178910fff71bde328b4": {
          "model_module": "@jupyter-widgets/controls",
          "model_name": "DescriptionStyleModel",
          "model_module_version": "1.5.0",
          "state": {
            "_model_module": "@jupyter-widgets/controls",
            "_model_module_version": "1.5.0",
            "_model_name": "DescriptionStyleModel",
            "_view_count": null,
            "_view_module": "@jupyter-widgets/base",
            "_view_module_version": "1.2.0",
            "_view_name": "StyleView",
            "description_width": ""
          }
        },
        "1848863be1cf47c299a88102e075473b": {
          "model_module": "@jupyter-widgets/base",
          "model_name": "LayoutModel",
          "model_module_version": "1.2.0",
          "state": {
            "_model_module": "@jupyter-widgets/base",
            "_model_module_version": "1.2.0",
            "_model_name": "LayoutModel",
            "_view_count": null,
            "_view_module": "@jupyter-widgets/base",
            "_view_module_version": "1.2.0",
            "_view_name": "LayoutView",
            "align_content": null,
            "align_items": null,
            "align_self": null,
            "border": null,
            "bottom": null,
            "display": null,
            "flex": null,
            "flex_flow": null,
            "grid_area": null,
            "grid_auto_columns": null,
            "grid_auto_flow": null,
            "grid_auto_rows": null,
            "grid_column": null,
            "grid_gap": null,
            "grid_row": null,
            "grid_template_areas": null,
            "grid_template_columns": null,
            "grid_template_rows": null,
            "height": null,
            "justify_content": null,
            "justify_items": null,
            "left": null,
            "margin": null,
            "max_height": null,
            "max_width": null,
            "min_height": null,
            "min_width": null,
            "object_fit": null,
            "object_position": null,
            "order": null,
            "overflow": null,
            "overflow_x": null,
            "overflow_y": null,
            "padding": null,
            "right": null,
            "top": null,
            "visibility": null,
            "width": null
          }
        },
        "c3c7f2cae72c448bbfac213b42006256": {
          "model_module": "@jupyter-widgets/controls",
          "model_name": "ProgressStyleModel",
          "model_module_version": "1.5.0",
          "state": {
            "_model_module": "@jupyter-widgets/controls",
            "_model_module_version": "1.5.0",
            "_model_name": "ProgressStyleModel",
            "_view_count": null,
            "_view_module": "@jupyter-widgets/base",
            "_view_module_version": "1.2.0",
            "_view_name": "StyleView",
            "bar_color": null,
            "description_width": ""
          }
        },
        "615815d2b58e4392a2adcc0d49036b4c": {
          "model_module": "@jupyter-widgets/base",
          "model_name": "LayoutModel",
          "model_module_version": "1.2.0",
          "state": {
            "_model_module": "@jupyter-widgets/base",
            "_model_module_version": "1.2.0",
            "_model_name": "LayoutModel",
            "_view_count": null,
            "_view_module": "@jupyter-widgets/base",
            "_view_module_version": "1.2.0",
            "_view_name": "LayoutView",
            "align_content": null,
            "align_items": null,
            "align_self": null,
            "border": null,
            "bottom": null,
            "display": null,
            "flex": null,
            "flex_flow": null,
            "grid_area": null,
            "grid_auto_columns": null,
            "grid_auto_flow": null,
            "grid_auto_rows": null,
            "grid_column": null,
            "grid_gap": null,
            "grid_row": null,
            "grid_template_areas": null,
            "grid_template_columns": null,
            "grid_template_rows": null,
            "height": null,
            "justify_content": null,
            "justify_items": null,
            "left": null,
            "margin": null,
            "max_height": null,
            "max_width": null,
            "min_height": null,
            "min_width": null,
            "object_fit": null,
            "object_position": null,
            "order": null,
            "overflow": null,
            "overflow_x": null,
            "overflow_y": null,
            "padding": null,
            "right": null,
            "top": null,
            "visibility": null,
            "width": null
          }
        },
        "9b99cfdee1054b169456b1c7a3f0ed77": {
          "model_module": "@jupyter-widgets/controls",
          "model_name": "DescriptionStyleModel",
          "model_module_version": "1.5.0",
          "state": {
            "_model_module": "@jupyter-widgets/controls",
            "_model_module_version": "1.5.0",
            "_model_name": "DescriptionStyleModel",
            "_view_count": null,
            "_view_module": "@jupyter-widgets/base",
            "_view_module_version": "1.2.0",
            "_view_name": "StyleView",
            "description_width": ""
          }
        },
        "48a063204f4d4acc9a3500a0ee5df0ec": {
          "model_module": "@jupyter-widgets/controls",
          "model_name": "HBoxModel",
          "model_module_version": "1.5.0",
          "state": {
            "_dom_classes": [],
            "_model_module": "@jupyter-widgets/controls",
            "_model_module_version": "1.5.0",
            "_model_name": "HBoxModel",
            "_view_count": null,
            "_view_module": "@jupyter-widgets/controls",
            "_view_module_version": "1.5.0",
            "_view_name": "HBoxView",
            "box_style": "",
            "children": [
              "IPY_MODEL_bd2562a13aea44c5a0bfb75e429991e1",
              "IPY_MODEL_1503a10cf9e3493fba4640661daceea7",
              "IPY_MODEL_01f8232bc5be4ab9b40b03a1dc5dd8b8"
            ],
            "layout": "IPY_MODEL_e4af8e610b74464e8fdbc9704ceb6ed3"
          }
        },
        "bd2562a13aea44c5a0bfb75e429991e1": {
          "model_module": "@jupyter-widgets/controls",
          "model_name": "HTMLModel",
          "model_module_version": "1.5.0",
          "state": {
            "_dom_classes": [],
            "_model_module": "@jupyter-widgets/controls",
            "_model_module_version": "1.5.0",
            "_model_name": "HTMLModel",
            "_view_count": null,
            "_view_module": "@jupyter-widgets/controls",
            "_view_module_version": "1.5.0",
            "_view_name": "HTMLView",
            "description": "",
            "description_tooltip": null,
            "layout": "IPY_MODEL_cd2e95b6e8c841789673a16ca7afe41b",
            "placeholder": "​",
            "style": "IPY_MODEL_0fdf63e5e09f4c3b8027dfab266642b2",
            "value": "special_tokens_map.json: 100%"
          }
        },
        "1503a10cf9e3493fba4640661daceea7": {
          "model_module": "@jupyter-widgets/controls",
          "model_name": "FloatProgressModel",
          "model_module_version": "1.5.0",
          "state": {
            "_dom_classes": [],
            "_model_module": "@jupyter-widgets/controls",
            "_model_module_version": "1.5.0",
            "_model_name": "FloatProgressModel",
            "_view_count": null,
            "_view_module": "@jupyter-widgets/controls",
            "_view_module_version": "1.5.0",
            "_view_name": "ProgressView",
            "bar_style": "success",
            "description": "",
            "description_tooltip": null,
            "layout": "IPY_MODEL_2a58fa0972d64f59abcbed5a0a137d07",
            "max": 1786,
            "min": 0,
            "orientation": "horizontal",
            "style": "IPY_MODEL_88354d3767424a07a2f84b11951c4d6a",
            "value": 1786
          }
        },
        "01f8232bc5be4ab9b40b03a1dc5dd8b8": {
          "model_module": "@jupyter-widgets/controls",
          "model_name": "HTMLModel",
          "model_module_version": "1.5.0",
          "state": {
            "_dom_classes": [],
            "_model_module": "@jupyter-widgets/controls",
            "_model_module_version": "1.5.0",
            "_model_name": "HTMLModel",
            "_view_count": null,
            "_view_module": "@jupyter-widgets/controls",
            "_view_module_version": "1.5.0",
            "_view_name": "HTMLView",
            "description": "",
            "description_tooltip": null,
            "layout": "IPY_MODEL_b167f256a95f4384a1c32ff95f4a1446",
            "placeholder": "​",
            "style": "IPY_MODEL_d0fd055fcd904a3e96c6a25fa844ef17",
            "value": " 1.79k/1.79k [00:00&lt;00:00, 31.1kB/s]"
          }
        },
        "e4af8e610b74464e8fdbc9704ceb6ed3": {
          "model_module": "@jupyter-widgets/base",
          "model_name": "LayoutModel",
          "model_module_version": "1.2.0",
          "state": {
            "_model_module": "@jupyter-widgets/base",
            "_model_module_version": "1.2.0",
            "_model_name": "LayoutModel",
            "_view_count": null,
            "_view_module": "@jupyter-widgets/base",
            "_view_module_version": "1.2.0",
            "_view_name": "LayoutView",
            "align_content": null,
            "align_items": null,
            "align_self": null,
            "border": null,
            "bottom": null,
            "display": null,
            "flex": null,
            "flex_flow": null,
            "grid_area": null,
            "grid_auto_columns": null,
            "grid_auto_flow": null,
            "grid_auto_rows": null,
            "grid_column": null,
            "grid_gap": null,
            "grid_row": null,
            "grid_template_areas": null,
            "grid_template_columns": null,
            "grid_template_rows": null,
            "height": null,
            "justify_content": null,
            "justify_items": null,
            "left": null,
            "margin": null,
            "max_height": null,
            "max_width": null,
            "min_height": null,
            "min_width": null,
            "object_fit": null,
            "object_position": null,
            "order": null,
            "overflow": null,
            "overflow_x": null,
            "overflow_y": null,
            "padding": null,
            "right": null,
            "top": null,
            "visibility": null,
            "width": null
          }
        },
        "cd2e95b6e8c841789673a16ca7afe41b": {
          "model_module": "@jupyter-widgets/base",
          "model_name": "LayoutModel",
          "model_module_version": "1.2.0",
          "state": {
            "_model_module": "@jupyter-widgets/base",
            "_model_module_version": "1.2.0",
            "_model_name": "LayoutModel",
            "_view_count": null,
            "_view_module": "@jupyter-widgets/base",
            "_view_module_version": "1.2.0",
            "_view_name": "LayoutView",
            "align_content": null,
            "align_items": null,
            "align_self": null,
            "border": null,
            "bottom": null,
            "display": null,
            "flex": null,
            "flex_flow": null,
            "grid_area": null,
            "grid_auto_columns": null,
            "grid_auto_flow": null,
            "grid_auto_rows": null,
            "grid_column": null,
            "grid_gap": null,
            "grid_row": null,
            "grid_template_areas": null,
            "grid_template_columns": null,
            "grid_template_rows": null,
            "height": null,
            "justify_content": null,
            "justify_items": null,
            "left": null,
            "margin": null,
            "max_height": null,
            "max_width": null,
            "min_height": null,
            "min_width": null,
            "object_fit": null,
            "object_position": null,
            "order": null,
            "overflow": null,
            "overflow_x": null,
            "overflow_y": null,
            "padding": null,
            "right": null,
            "top": null,
            "visibility": null,
            "width": null
          }
        },
        "0fdf63e5e09f4c3b8027dfab266642b2": {
          "model_module": "@jupyter-widgets/controls",
          "model_name": "DescriptionStyleModel",
          "model_module_version": "1.5.0",
          "state": {
            "_model_module": "@jupyter-widgets/controls",
            "_model_module_version": "1.5.0",
            "_model_name": "DescriptionStyleModel",
            "_view_count": null,
            "_view_module": "@jupyter-widgets/base",
            "_view_module_version": "1.2.0",
            "_view_name": "StyleView",
            "description_width": ""
          }
        },
        "2a58fa0972d64f59abcbed5a0a137d07": {
          "model_module": "@jupyter-widgets/base",
          "model_name": "LayoutModel",
          "model_module_version": "1.2.0",
          "state": {
            "_model_module": "@jupyter-widgets/base",
            "_model_module_version": "1.2.0",
            "_model_name": "LayoutModel",
            "_view_count": null,
            "_view_module": "@jupyter-widgets/base",
            "_view_module_version": "1.2.0",
            "_view_name": "LayoutView",
            "align_content": null,
            "align_items": null,
            "align_self": null,
            "border": null,
            "bottom": null,
            "display": null,
            "flex": null,
            "flex_flow": null,
            "grid_area": null,
            "grid_auto_columns": null,
            "grid_auto_flow": null,
            "grid_auto_rows": null,
            "grid_column": null,
            "grid_gap": null,
            "grid_row": null,
            "grid_template_areas": null,
            "grid_template_columns": null,
            "grid_template_rows": null,
            "height": null,
            "justify_content": null,
            "justify_items": null,
            "left": null,
            "margin": null,
            "max_height": null,
            "max_width": null,
            "min_height": null,
            "min_width": null,
            "object_fit": null,
            "object_position": null,
            "order": null,
            "overflow": null,
            "overflow_x": null,
            "overflow_y": null,
            "padding": null,
            "right": null,
            "top": null,
            "visibility": null,
            "width": null
          }
        },
        "88354d3767424a07a2f84b11951c4d6a": {
          "model_module": "@jupyter-widgets/controls",
          "model_name": "ProgressStyleModel",
          "model_module_version": "1.5.0",
          "state": {
            "_model_module": "@jupyter-widgets/controls",
            "_model_module_version": "1.5.0",
            "_model_name": "ProgressStyleModel",
            "_view_count": null,
            "_view_module": "@jupyter-widgets/base",
            "_view_module_version": "1.2.0",
            "_view_name": "StyleView",
            "bar_color": null,
            "description_width": ""
          }
        },
        "b167f256a95f4384a1c32ff95f4a1446": {
          "model_module": "@jupyter-widgets/base",
          "model_name": "LayoutModel",
          "model_module_version": "1.2.0",
          "state": {
            "_model_module": "@jupyter-widgets/base",
            "_model_module_version": "1.2.0",
            "_model_name": "LayoutModel",
            "_view_count": null,
            "_view_module": "@jupyter-widgets/base",
            "_view_module_version": "1.2.0",
            "_view_name": "LayoutView",
            "align_content": null,
            "align_items": null,
            "align_self": null,
            "border": null,
            "bottom": null,
            "display": null,
            "flex": null,
            "flex_flow": null,
            "grid_area": null,
            "grid_auto_columns": null,
            "grid_auto_flow": null,
            "grid_auto_rows": null,
            "grid_column": null,
            "grid_gap": null,
            "grid_row": null,
            "grid_template_areas": null,
            "grid_template_columns": null,
            "grid_template_rows": null,
            "height": null,
            "justify_content": null,
            "justify_items": null,
            "left": null,
            "margin": null,
            "max_height": null,
            "max_width": null,
            "min_height": null,
            "min_width": null,
            "object_fit": null,
            "object_position": null,
            "order": null,
            "overflow": null,
            "overflow_x": null,
            "overflow_y": null,
            "padding": null,
            "right": null,
            "top": null,
            "visibility": null,
            "width": null
          }
        },
        "d0fd055fcd904a3e96c6a25fa844ef17": {
          "model_module": "@jupyter-widgets/controls",
          "model_name": "DescriptionStyleModel",
          "model_module_version": "1.5.0",
          "state": {
            "_model_module": "@jupyter-widgets/controls",
            "_model_module_version": "1.5.0",
            "_model_name": "DescriptionStyleModel",
            "_view_count": null,
            "_view_module": "@jupyter-widgets/base",
            "_view_module_version": "1.2.0",
            "_view_name": "StyleView",
            "description_width": ""
          }
        },
        "e84314da23d44043b97ff3dce9a0be68": {
          "model_module": "@jupyter-widgets/controls",
          "model_name": "HBoxModel",
          "model_module_version": "1.5.0",
          "state": {
            "_dom_classes": [],
            "_model_module": "@jupyter-widgets/controls",
            "_model_module_version": "1.5.0",
            "_model_name": "HBoxModel",
            "_view_count": null,
            "_view_module": "@jupyter-widgets/controls",
            "_view_module_version": "1.5.0",
            "_view_name": "HBoxView",
            "box_style": "",
            "children": [
              "IPY_MODEL_5c232aa8613742b0bd2fe2d65d934fb3",
              "IPY_MODEL_8cd0c4628e69454986849f28d7145d84",
              "IPY_MODEL_c379bac6c41c498dbeab7fe473611e4a"
            ],
            "layout": "IPY_MODEL_9a1d91fbd9ce49abb9232ddfbb3cb35c"
          }
        },
        "5c232aa8613742b0bd2fe2d65d934fb3": {
          "model_module": "@jupyter-widgets/controls",
          "model_name": "HTMLModel",
          "model_module_version": "1.5.0",
          "state": {
            "_dom_classes": [],
            "_model_module": "@jupyter-widgets/controls",
            "_model_module_version": "1.5.0",
            "_model_name": "HTMLModel",
            "_view_count": null,
            "_view_module": "@jupyter-widgets/controls",
            "_view_module_version": "1.5.0",
            "_view_name": "HTMLView",
            "description": "",
            "description_tooltip": null,
            "layout": "IPY_MODEL_5b9bfe45609d49a390eda9fc463fc216",
            "placeholder": "​",
            "style": "IPY_MODEL_b2ebdcfdd9a945a7aac02071974f4b9c",
            "value": "config.json: 100%"
          }
        },
        "8cd0c4628e69454986849f28d7145d84": {
          "model_module": "@jupyter-widgets/controls",
          "model_name": "FloatProgressModel",
          "model_module_version": "1.5.0",
          "state": {
            "_dom_classes": [],
            "_model_module": "@jupyter-widgets/controls",
            "_model_module_version": "1.5.0",
            "_model_name": "FloatProgressModel",
            "_view_count": null,
            "_view_module": "@jupyter-widgets/controls",
            "_view_module_version": "1.5.0",
            "_view_name": "ProgressView",
            "bar_style": "success",
            "description": "",
            "description_tooltip": null,
            "layout": "IPY_MODEL_11044bb0beef4a0b878518dee67ca585",
            "max": 1423,
            "min": 0,
            "orientation": "horizontal",
            "style": "IPY_MODEL_1822499c3c684dc28648cab916521c8c",
            "value": 1423
          }
        },
        "c379bac6c41c498dbeab7fe473611e4a": {
          "model_module": "@jupyter-widgets/controls",
          "model_name": "HTMLModel",
          "model_module_version": "1.5.0",
          "state": {
            "_dom_classes": [],
            "_model_module": "@jupyter-widgets/controls",
            "_model_module_version": "1.5.0",
            "_model_name": "HTMLModel",
            "_view_count": null,
            "_view_module": "@jupyter-widgets/controls",
            "_view_module_version": "1.5.0",
            "_view_name": "HTMLView",
            "description": "",
            "description_tooltip": null,
            "layout": "IPY_MODEL_315f4cf30c4143d4a6d92052a99d5105",
            "placeholder": "​",
            "style": "IPY_MODEL_98bfafb2d46a407e98df941cb02d94f7",
            "value": " 1.42k/1.42k [00:00&lt;00:00, 36.4kB/s]"
          }
        },
        "9a1d91fbd9ce49abb9232ddfbb3cb35c": {
          "model_module": "@jupyter-widgets/base",
          "model_name": "LayoutModel",
          "model_module_version": "1.2.0",
          "state": {
            "_model_module": "@jupyter-widgets/base",
            "_model_module_version": "1.2.0",
            "_model_name": "LayoutModel",
            "_view_count": null,
            "_view_module": "@jupyter-widgets/base",
            "_view_module_version": "1.2.0",
            "_view_name": "LayoutView",
            "align_content": null,
            "align_items": null,
            "align_self": null,
            "border": null,
            "bottom": null,
            "display": null,
            "flex": null,
            "flex_flow": null,
            "grid_area": null,
            "grid_auto_columns": null,
            "grid_auto_flow": null,
            "grid_auto_rows": null,
            "grid_column": null,
            "grid_gap": null,
            "grid_row": null,
            "grid_template_areas": null,
            "grid_template_columns": null,
            "grid_template_rows": null,
            "height": null,
            "justify_content": null,
            "justify_items": null,
            "left": null,
            "margin": null,
            "max_height": null,
            "max_width": null,
            "min_height": null,
            "min_width": null,
            "object_fit": null,
            "object_position": null,
            "order": null,
            "overflow": null,
            "overflow_x": null,
            "overflow_y": null,
            "padding": null,
            "right": null,
            "top": null,
            "visibility": null,
            "width": null
          }
        },
        "5b9bfe45609d49a390eda9fc463fc216": {
          "model_module": "@jupyter-widgets/base",
          "model_name": "LayoutModel",
          "model_module_version": "1.2.0",
          "state": {
            "_model_module": "@jupyter-widgets/base",
            "_model_module_version": "1.2.0",
            "_model_name": "LayoutModel",
            "_view_count": null,
            "_view_module": "@jupyter-widgets/base",
            "_view_module_version": "1.2.0",
            "_view_name": "LayoutView",
            "align_content": null,
            "align_items": null,
            "align_self": null,
            "border": null,
            "bottom": null,
            "display": null,
            "flex": null,
            "flex_flow": null,
            "grid_area": null,
            "grid_auto_columns": null,
            "grid_auto_flow": null,
            "grid_auto_rows": null,
            "grid_column": null,
            "grid_gap": null,
            "grid_row": null,
            "grid_template_areas": null,
            "grid_template_columns": null,
            "grid_template_rows": null,
            "height": null,
            "justify_content": null,
            "justify_items": null,
            "left": null,
            "margin": null,
            "max_height": null,
            "max_width": null,
            "min_height": null,
            "min_width": null,
            "object_fit": null,
            "object_position": null,
            "order": null,
            "overflow": null,
            "overflow_x": null,
            "overflow_y": null,
            "padding": null,
            "right": null,
            "top": null,
            "visibility": null,
            "width": null
          }
        },
        "b2ebdcfdd9a945a7aac02071974f4b9c": {
          "model_module": "@jupyter-widgets/controls",
          "model_name": "DescriptionStyleModel",
          "model_module_version": "1.5.0",
          "state": {
            "_model_module": "@jupyter-widgets/controls",
            "_model_module_version": "1.5.0",
            "_model_name": "DescriptionStyleModel",
            "_view_count": null,
            "_view_module": "@jupyter-widgets/base",
            "_view_module_version": "1.2.0",
            "_view_name": "StyleView",
            "description_width": ""
          }
        },
        "11044bb0beef4a0b878518dee67ca585": {
          "model_module": "@jupyter-widgets/base",
          "model_name": "LayoutModel",
          "model_module_version": "1.2.0",
          "state": {
            "_model_module": "@jupyter-widgets/base",
            "_model_module_version": "1.2.0",
            "_model_name": "LayoutModel",
            "_view_count": null,
            "_view_module": "@jupyter-widgets/base",
            "_view_module_version": "1.2.0",
            "_view_name": "LayoutView",
            "align_content": null,
            "align_items": null,
            "align_self": null,
            "border": null,
            "bottom": null,
            "display": null,
            "flex": null,
            "flex_flow": null,
            "grid_area": null,
            "grid_auto_columns": null,
            "grid_auto_flow": null,
            "grid_auto_rows": null,
            "grid_column": null,
            "grid_gap": null,
            "grid_row": null,
            "grid_template_areas": null,
            "grid_template_columns": null,
            "grid_template_rows": null,
            "height": null,
            "justify_content": null,
            "justify_items": null,
            "left": null,
            "margin": null,
            "max_height": null,
            "max_width": null,
            "min_height": null,
            "min_width": null,
            "object_fit": null,
            "object_position": null,
            "order": null,
            "overflow": null,
            "overflow_x": null,
            "overflow_y": null,
            "padding": null,
            "right": null,
            "top": null,
            "visibility": null,
            "width": null
          }
        },
        "1822499c3c684dc28648cab916521c8c": {
          "model_module": "@jupyter-widgets/controls",
          "model_name": "ProgressStyleModel",
          "model_module_version": "1.5.0",
          "state": {
            "_model_module": "@jupyter-widgets/controls",
            "_model_module_version": "1.5.0",
            "_model_name": "ProgressStyleModel",
            "_view_count": null,
            "_view_module": "@jupyter-widgets/base",
            "_view_module_version": "1.2.0",
            "_view_name": "StyleView",
            "bar_color": null,
            "description_width": ""
          }
        },
        "315f4cf30c4143d4a6d92052a99d5105": {
          "model_module": "@jupyter-widgets/base",
          "model_name": "LayoutModel",
          "model_module_version": "1.2.0",
          "state": {
            "_model_module": "@jupyter-widgets/base",
            "_model_module_version": "1.2.0",
            "_model_name": "LayoutModel",
            "_view_count": null,
            "_view_module": "@jupyter-widgets/base",
            "_view_module_version": "1.2.0",
            "_view_name": "LayoutView",
            "align_content": null,
            "align_items": null,
            "align_self": null,
            "border": null,
            "bottom": null,
            "display": null,
            "flex": null,
            "flex_flow": null,
            "grid_area": null,
            "grid_auto_columns": null,
            "grid_auto_flow": null,
            "grid_auto_rows": null,
            "grid_column": null,
            "grid_gap": null,
            "grid_row": null,
            "grid_template_areas": null,
            "grid_template_columns": null,
            "grid_template_rows": null,
            "height": null,
            "justify_content": null,
            "justify_items": null,
            "left": null,
            "margin": null,
            "max_height": null,
            "max_width": null,
            "min_height": null,
            "min_width": null,
            "object_fit": null,
            "object_position": null,
            "order": null,
            "overflow": null,
            "overflow_x": null,
            "overflow_y": null,
            "padding": null,
            "right": null,
            "top": null,
            "visibility": null,
            "width": null
          }
        },
        "98bfafb2d46a407e98df941cb02d94f7": {
          "model_module": "@jupyter-widgets/controls",
          "model_name": "DescriptionStyleModel",
          "model_module_version": "1.5.0",
          "state": {
            "_model_module": "@jupyter-widgets/controls",
            "_model_module_version": "1.5.0",
            "_model_name": "DescriptionStyleModel",
            "_view_count": null,
            "_view_module": "@jupyter-widgets/base",
            "_view_module_version": "1.2.0",
            "_view_name": "StyleView",
            "description_width": ""
          }
        },
        "72bbbc2ced8347eeaf56b0d71b25e411": {
          "model_module": "@jupyter-widgets/controls",
          "model_name": "HBoxModel",
          "model_module_version": "1.5.0",
          "state": {
            "_dom_classes": [],
            "_model_module": "@jupyter-widgets/controls",
            "_model_module_version": "1.5.0",
            "_model_name": "HBoxModel",
            "_view_count": null,
            "_view_module": "@jupyter-widgets/controls",
            "_view_module_version": "1.5.0",
            "_view_name": "HBoxView",
            "box_style": "",
            "children": [
              "IPY_MODEL_a421fb6324b245d2a2710d07ee79d47e",
              "IPY_MODEL_9a5b79bb5a82474eb623591b4c3ffc88",
              "IPY_MODEL_ebda7a3484e2441f8fd158a684222fd3"
            ],
            "layout": "IPY_MODEL_75a15ec39d914aedbb3d6ffa79223800"
          }
        },
        "a421fb6324b245d2a2710d07ee79d47e": {
          "model_module": "@jupyter-widgets/controls",
          "model_name": "HTMLModel",
          "model_module_version": "1.5.0",
          "state": {
            "_dom_classes": [],
            "_model_module": "@jupyter-widgets/controls",
            "_model_module_version": "1.5.0",
            "_model_name": "HTMLModel",
            "_view_count": null,
            "_view_module": "@jupyter-widgets/controls",
            "_view_module_version": "1.5.0",
            "_view_name": "HTMLView",
            "description": "",
            "description_tooltip": null,
            "layout": "IPY_MODEL_757e7d07177547d6889c8968b28585e0",
            "placeholder": "​",
            "style": "IPY_MODEL_35909069dec140e38983cfc0ef09fc90",
            "value": "pytorch_model.bin: 100%"
          }
        },
        "9a5b79bb5a82474eb623591b4c3ffc88": {
          "model_module": "@jupyter-widgets/controls",
          "model_name": "FloatProgressModel",
          "model_module_version": "1.5.0",
          "state": {
            "_dom_classes": [],
            "_model_module": "@jupyter-widgets/controls",
            "_model_module_version": "1.5.0",
            "_model_name": "FloatProgressModel",
            "_view_count": null,
            "_view_module": "@jupyter-widgets/controls",
            "_view_module_version": "1.5.0",
            "_view_name": "ProgressView",
            "bar_style": "success",
            "description": "",
            "description_tooltip": null,
            "layout": "IPY_MODEL_492862d8d7d34d488589f77b96b2bb01",
            "max": 2950782855,
            "min": 0,
            "orientation": "horizontal",
            "style": "IPY_MODEL_9589da04c2f9466c94a1204ac751db48",
            "value": 2950782855
          }
        },
        "ebda7a3484e2441f8fd158a684222fd3": {
          "model_module": "@jupyter-widgets/controls",
          "model_name": "HTMLModel",
          "model_module_version": "1.5.0",
          "state": {
            "_dom_classes": [],
            "_model_module": "@jupyter-widgets/controls",
            "_model_module_version": "1.5.0",
            "_model_name": "HTMLModel",
            "_view_count": null,
            "_view_module": "@jupyter-widgets/controls",
            "_view_module_version": "1.5.0",
            "_view_name": "HTMLView",
            "description": "",
            "description_tooltip": null,
            "layout": "IPY_MODEL_319d3f109172406aa785ca64ab8504da",
            "placeholder": "​",
            "style": "IPY_MODEL_f8531c4047e440c2ab289e8a89e42694",
            "value": " 2.95G/2.95G [02:28&lt;00:00, 20.8MB/s]"
          }
        },
        "75a15ec39d914aedbb3d6ffa79223800": {
          "model_module": "@jupyter-widgets/base",
          "model_name": "LayoutModel",
          "model_module_version": "1.2.0",
          "state": {
            "_model_module": "@jupyter-widgets/base",
            "_model_module_version": "1.2.0",
            "_model_name": "LayoutModel",
            "_view_count": null,
            "_view_module": "@jupyter-widgets/base",
            "_view_module_version": "1.2.0",
            "_view_name": "LayoutView",
            "align_content": null,
            "align_items": null,
            "align_self": null,
            "border": null,
            "bottom": null,
            "display": null,
            "flex": null,
            "flex_flow": null,
            "grid_area": null,
            "grid_auto_columns": null,
            "grid_auto_flow": null,
            "grid_auto_rows": null,
            "grid_column": null,
            "grid_gap": null,
            "grid_row": null,
            "grid_template_areas": null,
            "grid_template_columns": null,
            "grid_template_rows": null,
            "height": null,
            "justify_content": null,
            "justify_items": null,
            "left": null,
            "margin": null,
            "max_height": null,
            "max_width": null,
            "min_height": null,
            "min_width": null,
            "object_fit": null,
            "object_position": null,
            "order": null,
            "overflow": null,
            "overflow_x": null,
            "overflow_y": null,
            "padding": null,
            "right": null,
            "top": null,
            "visibility": null,
            "width": null
          }
        },
        "757e7d07177547d6889c8968b28585e0": {
          "model_module": "@jupyter-widgets/base",
          "model_name": "LayoutModel",
          "model_module_version": "1.2.0",
          "state": {
            "_model_module": "@jupyter-widgets/base",
            "_model_module_version": "1.2.0",
            "_model_name": "LayoutModel",
            "_view_count": null,
            "_view_module": "@jupyter-widgets/base",
            "_view_module_version": "1.2.0",
            "_view_name": "LayoutView",
            "align_content": null,
            "align_items": null,
            "align_self": null,
            "border": null,
            "bottom": null,
            "display": null,
            "flex": null,
            "flex_flow": null,
            "grid_area": null,
            "grid_auto_columns": null,
            "grid_auto_flow": null,
            "grid_auto_rows": null,
            "grid_column": null,
            "grid_gap": null,
            "grid_row": null,
            "grid_template_areas": null,
            "grid_template_columns": null,
            "grid_template_rows": null,
            "height": null,
            "justify_content": null,
            "justify_items": null,
            "left": null,
            "margin": null,
            "max_height": null,
            "max_width": null,
            "min_height": null,
            "min_width": null,
            "object_fit": null,
            "object_position": null,
            "order": null,
            "overflow": null,
            "overflow_x": null,
            "overflow_y": null,
            "padding": null,
            "right": null,
            "top": null,
            "visibility": null,
            "width": null
          }
        },
        "35909069dec140e38983cfc0ef09fc90": {
          "model_module": "@jupyter-widgets/controls",
          "model_name": "DescriptionStyleModel",
          "model_module_version": "1.5.0",
          "state": {
            "_model_module": "@jupyter-widgets/controls",
            "_model_module_version": "1.5.0",
            "_model_name": "DescriptionStyleModel",
            "_view_count": null,
            "_view_module": "@jupyter-widgets/base",
            "_view_module_version": "1.2.0",
            "_view_name": "StyleView",
            "description_width": ""
          }
        },
        "492862d8d7d34d488589f77b96b2bb01": {
          "model_module": "@jupyter-widgets/base",
          "model_name": "LayoutModel",
          "model_module_version": "1.2.0",
          "state": {
            "_model_module": "@jupyter-widgets/base",
            "_model_module_version": "1.2.0",
            "_model_name": "LayoutModel",
            "_view_count": null,
            "_view_module": "@jupyter-widgets/base",
            "_view_module_version": "1.2.0",
            "_view_name": "LayoutView",
            "align_content": null,
            "align_items": null,
            "align_self": null,
            "border": null,
            "bottom": null,
            "display": null,
            "flex": null,
            "flex_flow": null,
            "grid_area": null,
            "grid_auto_columns": null,
            "grid_auto_flow": null,
            "grid_auto_rows": null,
            "grid_column": null,
            "grid_gap": null,
            "grid_row": null,
            "grid_template_areas": null,
            "grid_template_columns": null,
            "grid_template_rows": null,
            "height": null,
            "justify_content": null,
            "justify_items": null,
            "left": null,
            "margin": null,
            "max_height": null,
            "max_width": null,
            "min_height": null,
            "min_width": null,
            "object_fit": null,
            "object_position": null,
            "order": null,
            "overflow": null,
            "overflow_x": null,
            "overflow_y": null,
            "padding": null,
            "right": null,
            "top": null,
            "visibility": null,
            "width": null
          }
        },
        "9589da04c2f9466c94a1204ac751db48": {
          "model_module": "@jupyter-widgets/controls",
          "model_name": "ProgressStyleModel",
          "model_module_version": "1.5.0",
          "state": {
            "_model_module": "@jupyter-widgets/controls",
            "_model_module_version": "1.5.0",
            "_model_name": "ProgressStyleModel",
            "_view_count": null,
            "_view_module": "@jupyter-widgets/base",
            "_view_module_version": "1.2.0",
            "_view_name": "StyleView",
            "bar_color": null,
            "description_width": ""
          }
        },
        "319d3f109172406aa785ca64ab8504da": {
          "model_module": "@jupyter-widgets/base",
          "model_name": "LayoutModel",
          "model_module_version": "1.2.0",
          "state": {
            "_model_module": "@jupyter-widgets/base",
            "_model_module_version": "1.2.0",
            "_model_name": "LayoutModel",
            "_view_count": null,
            "_view_module": "@jupyter-widgets/base",
            "_view_module_version": "1.2.0",
            "_view_name": "LayoutView",
            "align_content": null,
            "align_items": null,
            "align_self": null,
            "border": null,
            "bottom": null,
            "display": null,
            "flex": null,
            "flex_flow": null,
            "grid_area": null,
            "grid_auto_columns": null,
            "grid_auto_flow": null,
            "grid_auto_rows": null,
            "grid_column": null,
            "grid_gap": null,
            "grid_row": null,
            "grid_template_areas": null,
            "grid_template_columns": null,
            "grid_template_rows": null,
            "height": null,
            "justify_content": null,
            "justify_items": null,
            "left": null,
            "margin": null,
            "max_height": null,
            "max_width": null,
            "min_height": null,
            "min_width": null,
            "object_fit": null,
            "object_position": null,
            "order": null,
            "overflow": null,
            "overflow_x": null,
            "overflow_y": null,
            "padding": null,
            "right": null,
            "top": null,
            "visibility": null,
            "width": null
          }
        },
        "f8531c4047e440c2ab289e8a89e42694": {
          "model_module": "@jupyter-widgets/controls",
          "model_name": "DescriptionStyleModel",
          "model_module_version": "1.5.0",
          "state": {
            "_model_module": "@jupyter-widgets/controls",
            "_model_module_version": "1.5.0",
            "_model_name": "DescriptionStyleModel",
            "_view_count": null,
            "_view_module": "@jupyter-widgets/base",
            "_view_module_version": "1.2.0",
            "_view_name": "StyleView",
            "description_width": ""
          }
        }
      }
    }
  },
  "cells": [
    {
      "cell_type": "markdown",
      "metadata": {
        "id": "view-in-github",
        "colab_type": "text"
      },
      "source": [
        "<a href=\"https://colab.research.google.com/github/rajfirke/PDF-Summary/blob/main/Summary_of_PDF.ipynb\" target=\"_parent\"><img src=\"https://colab.research.google.com/assets/colab-badge.svg\" alt=\"Open In Colab\"/></a>"
      ]
    },
    {
      "cell_type": "markdown",
      "source": [
        "# Imports"
      ],
      "metadata": {
        "id": "ppCKxEz03BIx"
      }
    },
    {
      "cell_type": "code",
      "source": [
        "pip install PyPDF2==2.12.0"
      ],
      "metadata": {
        "id": "W-BhN3AB149T",
        "colab": {
          "base_uri": "https://localhost:8080/"
        },
        "outputId": "03d5fb0e-0ad4-4e15-a699-53c0e058b3d6"
      },
      "execution_count": null,
      "outputs": [
        {
          "output_type": "stream",
          "name": "stdout",
          "text": [
            "Collecting PyPDF2==2.12.0\n",
            "  Downloading pypdf2-2.12.0-py3-none-any.whl (222 kB)\n",
            "\u001b[2K     \u001b[90m━━━━━━━━━━━━━━━━━━━━━━━━━━━━━━━━━━━━━━━━\u001b[0m \u001b[32m222.2/222.2 kB\u001b[0m \u001b[31m4.0 MB/s\u001b[0m eta \u001b[36m0:00:00\u001b[0m\n",
            "\u001b[?25hInstalling collected packages: PyPDF2\n",
            "Successfully installed PyPDF2-2.12.0\n"
          ]
        }
      ]
    },
    {
      "cell_type": "code",
      "source": [
        "import PyPDF2"
      ],
      "metadata": {
        "id": "lGsoNJgp2cxf"
      },
      "execution_count": null,
      "outputs": []
    },
    {
      "cell_type": "code",
      "source": [
        "import numpy as np"
      ],
      "metadata": {
        "id": "BWwQf4zaRU7j"
      },
      "execution_count": null,
      "outputs": []
    },
    {
      "cell_type": "markdown",
      "source": [
        "# CHUNKING\n"
      ],
      "metadata": {
        "id": "85NkWjt74sFF"
      }
    },
    {
      "cell_type": "code",
      "source": [
        "import re\n",
        "\n",
        "def chunk_pdf(pdf_path, chunk_size=512, overlap=102):\n",
        "\n",
        "  # Open the PDF file.\n",
        "  pdf_file = PyPDF2.PdfFileReader(pdf_path)\n",
        "\n",
        "  # Extract the text from the PDF file.\n",
        "  pdf_text = \"\"\n",
        "  for page in pdf_file.pages:\n",
        "    pdf_text += page.extractText()\n",
        "\n",
        "  # Split the text into sentences.\n",
        "  sentences = re.split(r'[.?!\\n]', pdf_text)\n",
        "\n",
        "  # Split the sentences into tokens.\n",
        "  tokens = []\n",
        "  for sentence in sentences:\n",
        "    tokens += sentence.split()\n",
        "\n",
        "  # Chunk the tokens into fixed-size chunks with moderate overlap.\n",
        "  chunks = []\n",
        "  for i in range(0, len(tokens), chunk_size - overlap):\n",
        "    chunk = tokens[i:i + chunk_size]\n",
        "    # Overlap the chunks by the specified amount.\n",
        "    if i > 0:\n",
        "      chunk = chunk[:-overlap]\n",
        "    chunks.append(\" \".join(chunk))\n",
        "\n",
        "  return chunks\n",
        "\n",
        "\n",
        "# Example usage:\n",
        "\n",
        "pdf_path = \"/content/s13278-021-00737-z.pdf\"\n",
        "chunks = chunk_pdf(pdf_path)\n",
        "\n",
        "# Print the chunks.\n",
        "for chunk in chunks:\n",
        "  print(chunk)"
      ],
      "metadata": {
        "id": "BFm2kbpSt6Fy",
        "colab": {
          "base_uri": "https://localhost:8080/"
        },
        "outputId": "ce7045ee-6514-4121-c237-c497e54bc53b"
      },
      "execution_count": null,
      "outputs": [
        {
          "output_type": "stream",
          "name": "stderr",
          "text": [
            "WARNING:PyPDF2._reader:Xref table not zero-indexed. ID numbers for objects will be corrected.\n"
          ]
        },
        {
          "output_type": "stream",
          "name": "stdout",
          "text": [
            "Vol :(0123456789)1 3Social Network Analysis and Mining (2021) 11:33 https://doi org/10 1007/s13278-021-00737-z ORIGINAL ARTICLE Sentiment analysis on the impact of coronavirus in social life using the BERT model Mrityunjay Singh1 · Amit Kumar Jakhar1 · Shivam Pandey2 Received: 10 August 2020 / Revised: 30 December 2020 / Accepted: 15 February 2021 / Published online: 19 March 2021 © The Author(s), under exclusive licence to Springer-Verlag GmbH Austria, part of Springer Nature 2021 Abstract Nowadays, the whole world is confronting an infectious disease called the coronavirus No country remained untouched during this pandemic situation Due to no exact treatment available, the disease has become a matter of seriousness for both the government and the public As social distance is considered the most effective way to stay away from this disease Therefore, to address the people eagerness about the Corona pandemic and to express their views, the trend of people has moved very fast towards social media Twitter has emerged as one of the most popular platforms among those social media platforms By studying the same eagerness and opinions of people to understand their mental state, we have done sentiment analysis using the BERT model on tweets In this paper, we perform a sentiment analysis on two data sets; one data set is collected by tweets made by people from all over the world, and the other data set contains the tweets made by people of India We have validated the accuracy of the emotion classification from the GitHub repository The experimental results show that the validation accuracy is ≈ 94% Keywords COVID-19 · Corona virus · Sentiment analysis · BERT model · Tweeter · Classification 1 Introduction Nowadays, the Internet is becoming worldwide popular, and it is serving as a cost-effective platform for information car - rier by the rapid enlargement of social media Several social media platforms like blogs, reviews, posts, tweets are being processed for extracting the people’s opinions about a par - ticular product, organization, or situation The attitude and feelings comprise an essential part in evaluating the behav - iour of an individual that is known as sentiments These sentiments can further be analyzed towards an entity, known as sentiment analysis or opinion mining By using sentimen- tal analysis, we can interpret the sentiments or emotions of others and classify them into different categories that help an organization to know people’s emotions and act accordingly This analysis depends on its expected outcomes, e g , analyz- ing the text depending on its polarity and emotions, feedback about a particular feature, and analyzing the text in differ - ent languages require detection of the respective language It requires a large amount of data that may not be prop- erly structured Therefore, some preprocessing techniques are used to construct final data set from the extracted data Moreover, the real-time analysis helps us to look into the current scenario and make decisions to get better results The COVID-19 or Corona Virus has a major outbreak around the various parts of the world, and people are affected on a very large scale This\n",
            "the text depending on its polarity and emotions, feedback about a particular feature, and analyzing the text in differ - ent languages require detection of the respective language It requires a large amount of data that may not be prop- erly structured Therefore, some preprocessing techniques are used to construct final data set from the extracted data Moreover, the real-time analysis helps us to look into the current scenario and make decisions to get better results The COVID-19 or Corona Virus has a major outbreak around the various parts of the world, and people are affected on a very large scale This leads to a major loss in human life even though the people have different views on the outbreak of the Corona Virus In the literature, various researchers have per - formed the sentiment analysis on COVID-19 with different perspective on different data sets to categorize the people’s opinion (Sailunaz and Alhajj 2019 ; Dubey 2020; Muthusami et al 2020; Rajput et al 2020; Pastor 2020; Alhajji et al 2020; Medford et al 2020; Prabhakar Kaila et al 2020) In this paper, the authors analyse people’s opinions around the world including India to understand the favora- ble or unfavorable situations for them Therefore, our * Shivam Pandey shivamnit425@gmail com Mrityunjay Singh mrityunjay cse045@gmail com Amit Kumar Jakhar amitjakhar69@gmail com 1 Department of CS and IT, Jaypee University of Information Technology, Waknaghat 173234, India 2 Department of CSE, Bundelkhand Institute of Engineering and Technology, Jhansi 284128, India Social Network Analysis and Mining (2021) 11:33 1 3 33 Page 2 of 11 main focus is to do the sentiment analysis on COVID-19 to draw some conclusions on people’s opinion Recently, it has been observed that the number of people actively participated in social media like facebook, twitter, etc However, this work uses the tweeter, a social media platform, to collect the public opinions in the form of reviews, comments, post on COVID-19 In this proposed model, we scrape data from the twitter using the exist- ing twitter APIs, and prepare two data sets, i e , world- specific and India-specific data sets After that the senti- ment analysis is performed using different matrices like Average Likes and Re-tweets a period, Intensity Analysis, Polarity & Subjectivity, and Wordcloud Along with this, the Bidirectional Encoder Representations from Trans- formers (BERT) model is also used for the classification of public opinions on corona virus The organization of this paper is as follows: Sect 2\n",
            "discuss the related work, and Sect 3 discuss the proposed work on COVID-19 The performance analysis of this work is discussed in Sect 4 Finally, Sect 5 concludes the work and specifies its possible application and usefulness 2 Related work The sentiment analysis makes use of natural language pro- cessing techniques to analyse a persons opinion, emotion, and it is also known as an opinion mining (Alsaeedi and Khan 2019) In the recent past, the researchers have shown insights on such information and classify the emotions (Bak - shi et al 2016 ; Liu 2012 ) In literature, several techniques are available to perform sentiment analysis that involves extracting lexical sentiments with the documents (Kim and Hovy 2006), how features are associated with the sentiment using bi and tri-grams (Dave et al 2003) As the emotions are now a common way to express feelings, therefore emo- jis can be used for positive, neutral and negative thoughts (Agarwal et al 2011) Figure 1 exhibits the internal working of the system by using any one of the existing methods to perform sentiment analysis (Castillo et al 2015) This figure exhibits the process to classify the text among various senti- ment groups like positive, negative, and neutral Nowadays, the impact of coronavirus is being delib- erately changed the social and personal lives all over the world Therefore, many researchers are working to observe the sentiments towards novel coronavirus from a different perspective, and depicting their conclusions in different Fig 1 Internal working of sentiment analysis system (Castillo et al 2015)Social Network Analysis and Mining (2021) 11:33 1 3 Page 3 of 11 33 ways using available tools and techniques (Sailunaz and Alhajj 2019; Alsaeedi and Khan 2019) In the sequence of this work, Dubey et al have collected the tweets over 20 days in March from four states of the European continent to analyse the explosion of the novel coronavirus (Dubey 2020) Medford et al applied the unsupervised machine learning techniques for analyzing the collected data on coronavirus (Medford et al 2020) In other work, Alhajji et al used the Naive Bayes classifier to analyse and clas- sify the collected data scraped from tweeter (Alhajji et al 2020), and Rajput et al have examined the tweets pub- lished in January 2020 (Rajput et al 2020) They have emphasized on the word occurrence pattern and sentiment recognition using bi-grams and tri-grams methods Kaila et al have applied the Latent Dirichlet Allocation (LDA) technique on\n",
            "collected data to analyse the outbreaks of novel COVID-19 and inferred that people are frightened of the novel coronavirus storming around the globe (Prab- hakar Kaila et al 2020 ) Muthusami et al have conceived the outbreak of COVID-19 to analyse the sentiments by using different machine learning approaches (Muthusami et al 2020) Kaur et al have used the NLTK library to perform the cleaning, and Textblob data set to analyse the tweets for categorize the public’ sentiments (Kaur and Sharma 2020) Pastor et al have scraped the tweets from the Philippines region and study the consequences of the symptoms of the novel coronavirus on community quar - antine (Pastor 2020) The centre point of all above-said work is the coronavirus and its implications by analyzing the text of social media Therefore, the authors have per - formed the sentiment analysis on the twitter data to specify the situation in India as well as in the rest of the world During this pandemic situation, a specified lockdown is being announced throughout the world, and the people including celebs, sports personalities, and the top lead- ers from various organizations have been expressing their views on Twitter Therefore, it becomes the most valuable platform for researchers to collect the data to pursue their research to analyse the people opinions 3 Sentiment analysis on COVID‑19 Natural Language Processing provides a way to analyse textual data using different approaches that work on differ - ent parameters ranging from manual work to an automatic process using in-built libraries The rule-based approach is one form where the rules are manually defined to perform stemming and covering the text data into tokens, and then classifying the tokens in positive, neutral, and negative categories according to their essence These categories are used to calculate the polarity of the sentences that helps to decide the polarity of the text On the other hand, auto- matic approaches employ the machine learning techniques to categorized the given sentences Both the approaches have their own pros and cons Therefore, in this work, the hybrid approach of aforementioned techniques is used to design the proposed model Figure 2 exhibits the working of the pro- posed model that is divided into two phases: training phase and prediction phase In the training phase, the tagged data are provided as the input to a machine learning algorithm to build a classifier model In the prediction phase, untagged textual data are categorized using the built classifier The\n",
            "sentiment analysis process requires two phases: 1 Data set preparation phase and 2 Sentiment analysis phase The data set preparation phase requires the following steps: scraping data from twitter, cleaning the data, and select- ing the relevant features We scrape tweets from the twitter using the scraper and the tweepy python APIs and filter the Fig 2 Working of the proposed sentiment analysis model Social Network Analysis and Mining (2021) 11:33 1 3 33 Page 4 of 11 scraped data according to our requirements to perform senti- ment analysis, e g , we may scrape the country-specific data on COVID-19 The scraped data have a number of features, however, we need only selected features to carry out the fur - ther process In sentiment analysis phase, we look at insights on cleaned data for various measures as polarity, subjectiv - ity, wordcloud, etc , and use the BERT model for emotions classification (Sun et al 2019a) The following subsections explain the complete process of the proposed model 3 1 Data set preparation phase The data set preparation phase comprises of the following steps: Data scraping and cleaning, and selection of the rel- evant features 3 1 1 Data scraping and cleaning We select Twitter, a social media platform, for extracting tweets on COVID-19, and use the Twitter scraper and the tweepy APIs for data scraping Table 1 exhibits the total number of tweets extracted from the twitter to prepare the data sets Thereafter, we clean the scraped data set using regression where tweet text is mapped with an equation and filters out links, images, and emotions from the text A time stamp feature is a composite entity of date and time in that we require only date of a tweet Twitter scrapper API is used to extract data with hashtags (#COVID2019 OR #COVID19 OR corona&virus) from 20 Jan 2020 to 25 April 2020 con- cerning the beginning and end date of each statement to get the required attributes We construct two data sets, first con- tains the tweets from the entire world, and another contains the tweets from India only We use keywords like ’India’ and ’Modi’ to filter out tweets from India The Indian tweet 1 data set is created using the keyword ’India’ while the Indian tweet 2 data set is created by using the keyword ’Modi’ To get the resultant data set from Indian tweets, we merge both the Indian tweets 1 and the Indian tweets 2\n",
            "data sets We do not have an appropriate method to use location filter, there- fore, we use the specific keywords to create the second data set English language is the only medium of expression of emotions in our data set The APIs yield a large number of features from derived tweets and among them some features may be irrelevant Therefore, a feature selection technique is used to extract only the relevant features 3 1 2 Feature selection After cleaning the data, we perform the feature selection to select the relevant features using Minimum Redundancy Maximum Relevancy (mRMR) (Agarwal and Mittal 2013; Shirzad and Keyvanpour 2015) The scraped data set has various features such as has_media, hashtags, img_urls, is_replied, is_reply_to, likes, links, parent_tweets, replies, reply_to_ users, retweets, screen_ name, text_html, times- tamp, tweet_ id, tweet_url, user_id, username, video_url, etc Among aforementioned feature, we select only tweet_id, likes, retweets, timestamp, and text_html features of a tweet to create our resultant data set for the sentiment analysis 3 2 Sentiment analysis phase After preparing the resultant data sets, we analyse both data sets to calculate various measures using the in-built libraries and functions provided by Numpy and Pandas We select five metrics, Average Likes over the period, Average Re- tweets over the period, Intensity Analysis, Polarity & Subjec- tivity , and Wordcloud , for analysis, and use the BERT model for classification (Devlin et al 2018; Sun et al 2019b) The details of each metric are given in the following subsections 3 2 1 Average likes over a period More likes on tweets show higher similarity in thoughts People read tweets online, relate it with the tweets by other people, and then like accordingly As we have date wise data, we sum up the likes for each tweet on daily basis and calculate the average/mean using appropriate functions to create a time series plot of the average likes for the tweets 3 2 2 Average re‑tweets over a period Re-tweeting the tweets express your consent for the same; people may also re-tweet the already re-tweeted tweets Therefore, we calculate the mean re-tweets as the mean of likes that give the time series plot of the average re-tweets Table 1 Description of scraped data of COVID-19#Of tweets concerned to world#Of tweets con- cerned to IndiaTotal # of scraped tweets #Of tweets scraped using the tweepy API414,567 (69 47%) 2456 (0 5%) 417,023 (69 88%) #Of tweets scraped using the Twitter scrapper API178,271 (29 87%)\n",
            "1490 (0 25%) 189,761 (31 8%) Total # of scraped tweets 592,838 (99 34%) 3946 (0 58%) 596,784Social Network Analysis and Mining (2021) 11:33 1 3 Page 5 of 11 33 3 2 3 Intensity analysis Every text has an intensity value, which signifies how a text is positive or negative We use the Vader sentiment ana- lyzer to calculate the intensity This analyzer provides a polarity_ score() method that takes the tweet text as an input and produces the polarity of the entire sentence on the basis of word by word We have divided the polarity into seven different categories which are neutral, weakly positive, mild positive, strongly positive, weakly negative, mild negative and strongly negative for the different range of the polarity as shown in Fig 3 In the literature, it has been observed that the sentiments of a text mainly classified into three groups: positive, negative, and neutral (Agarwal et al 2011; Akhtar et al 2018; Yu et al 2017) However, some other research- ers further classify the positive and negative sentiments into sub-categories depending on the application requirements (Bouazizi and Ohtsuki 2017; Tian et al 2018) Therefore, we extract different keywords from the tweets and classify the positive and negative sentiments of text in aforementioned sub-categories using the polarity method defined in Fig 3 3 2 4 Polarity and subjectivity Polarity and Subjectivity are one of the most important met- ric for sentiment analysis The Polarity is the intensity or the strength of the emotion showing through text that indicates the behaviour of the person On the other hand, subjectivity is a person opinion or view on a specific issue or a thing It is not necessary that a subjective sentence defines polarity or depicts a behaviour, i e , it can be a normal statement made as an opinion We use TextBlob() library function for the same purpose that takes a sentence as an input and returns the polarity and the subjectivity of the text A mean of these values has been taken for each date, and relevant plots have been made Figure 4 shows the working of TextBlob() method and its respective result (Ahuja and Dubey 2017; Hasan et al 2018) The polarity score values are ranging from [ −1 to + 1], and the subjectivity score values are rang- ing from [0 to + 1] 3 2 5 Wordcloud Each sentence consists of several words having different intensity and behaviour In the previous\n",
            "step, we have cal- culated the type of polarity i e , positive, negative, and neu- tral Each of them has a wordcloud showing different words that come in that category Wordcloud shows all the words and frequencies that indicate the size of respective words The bigger word represents a high frequency of occurring in the text Stop words also have a high frequency than any other words, but these words do not make any sense and do not show the emotion Therefore, we remove the stop words before making the wordcloud 3 3 Emotion classification using BERT In this phase, Bi-directional Encoding Representation for a Transformer (BERT) model is used for emotion classifica- tion The meaning of a word in a given sentence depends on the other words surrounding it The BERT feeds all input at once to handle dependencies among words, and it is of two types: BERT-base model and BERT-large model The BERT- base model uses 12 transformer encoders while the BERT- large model uses 24 transformer encoders We can easily fine-tune the BERT model to get the desired results We follow the following steps to create a mask and the encoder representation of the BERT using hugging face with pytorch library for emotion classification: • Dividing the collected data into training and testing sets using train-test split • Converting the training set into respective torch tensors for the model • Defining the batch size to create tensors and iterators to fine-tune the BERT model • Training the BERT model using the model parameters and validating its accuracy • Evaluating the performance of the model Fig 3 Method used to assign sentiment value to the text Fig 4 Working of the TextBlob method Social Network Analysis and Mining (2021) 11:33 1 3 33 Page 6 of 11 4 Performance analysis This section presents the implementation and experimental details of the work This work presents the sentiment analy - sis on COVID-19 and uses five metrices for performance analysis that are Average Likes over the period, Average Re- tweets over the period, Intensity Analysis, Polarity & Sub- jectivity, and Wordcloud 4 1 Experimental setup We have implemented the proposed model on Intel Core i5 CPU 2 40 GHz with 4 GB RAM and IDE disk under Windows 10 64-bit operating system for sentiment analy - sis We use the Anaconda 2019 10, a open-source software for developing Machine Learning and Artificial Intelligent projects, the existing python libraries such\n",
            "as Numpy, Pan- das, and scikit-learn in Python 3 7 on Jupyter Notebook, and an Integrated Development Environment (IDE), i e , made for programming in Python We use Twitter, a social media platform, to build our data set to perform the senti- ment analysis on the coronavirus We have scraped the data from twitter over 80 days period of time from 20 Jan 2020 to 25 April 2020 4 2 Results and discussion In this section, we discuss the evaluated results from our proposed experimental setup with the help of five aforemen- tioned performance metrices in detail 4 2 1 Number of likes and re‑tweets over a period We calculate the mean likes for each day which results in average likes over 80 days on both data sets Figure 5a and b exhibit the mean likes, while Fig 6a and b exhibit the mean re-tweets over a given period for the world and Indian data sets, respectively After the coronavirus outbreak in Wuhan, China, public around the world get curious to know about the coronavirus and how it is affecting people’s lives From Figs 5a and 6 a, we observe a large hike in likes and re- tweets on 29 Jan 2020 and 9 Mar 2020 due to the large num- ber of death cases has reported around all over the world The people from different countries have evacuated from China after this outbreak The USA also sent flights to bring back their citizens from China As there were delaying in the evacuation plan, people were much more active about the situation and at the same time, more interaction has been carried out through social media From Figs 5b and 6 b, it can be seen a sizeable rise on 26 Feb 2020 and 26 Mar 2020 in terms of likes and re- tweets The first peak in February shows the time when India decided to deploy a raft of naval ships as well as mili- tary aircraft to deliver relief goods and evacuate its citizens from China, at that time, the people have reacted much with tweets The next peak was come in March that was the time when a three-week lockdown was announced in the entire country; hence we can observe the hike in likes there too 4 2 2 Intensity analysis We have already discussed in the earlier section about seven different categories to analyse the tweets intensity ranging between −1 and + 1 and treated\n",
            "strong intensity values beyond the given range The selected range indicates the polarity of a tweet that means how readers will judge the Fig 5 Calculated mean of likes over a periodSocial Network Analysis and Mining (2021) 11:33 1 3 Page 7 of 11 33 tweet of the others when s/he has gone through with the tweet The intensity categories are neutral, weakly positive, mildly positive, strongly positive, weakly negative, mildly negative, and strongly negative Tables 2 and 3 exhibit the intensity values in numbers and percentages for each cat- egory obtained for the world data set and the Indian data set, respectively Figure 7 shows the pie chart of the world data set and the Indian data set, and it represents the data in more interpretable way, and the plots exhibit the segments of each category From Tables 2 and 3 , we observe that the world data set has more neutral sentiments as compared to the Indian data set, however, strongly negative tweets are more in the Indian data set due to hate for the coronavirus in the initial stages We can also observe that the strong positive tweets in the Indian data set are much more than the world data set because of the suitable and efficient actions taken by the Indian government to help people and to control this pandemic situation 4 2 3 Polarity and subjectivity This metric helps to check the sentiments and their intensity over 80 days We have taken the mean value to make 80 unique records for each date Figure 8 exhibits the polarity over a period for the world data set and the Indian data set, respectively This figure reveals that the mean value for the world sentiments is ranging mostly between 0 03 to 0 07, and does not drop below zero, whereas, for the Indian data set, the mean value drops below zero at various intervals During the lockdown phase when the virus was spread- ing epidemically, the mean value shows the most negative polarity Figure 9 exhibits the mean subjectivity values over the period for the world data set and the Indian data set, respec- tively We use the mean subjectivity values and plot the graph using a scattered plot These plots change the color of markers according to the values on the y-axis in all four cases It can observe that the result in the first case is com- pact within a small limit and makes\n",
            "two segments increas- ing gradually in March with fluctuation then behavior turns to normal However in the second case, it varies in a much Fig 6 Calculated mean of re-tweets over a period Table 2 Percent values of the sentiments’ group for world data set Tot_tweets % Tweets Sentiment Negative Weakly negative 58,707 10 0 Strongly negative 85,163 14 5 Mild negative 102,120 17 4 Neutral 153,657 26 1 Positive Weakly positive 48,818 8 3 Strongly positive 52,762 9 0 Mild positive 86,628 14 7 Table 3 Percent values of the sentiments’ group for India data set Tot_tweets % Tweets Sentiment Negative Weakly negative 359 10 0 Strongly negative 535 14 9 Mild negative 572 15 9 Neutral 824 22 9 Positive Weakly positive 338 9 4 Strongly positive 380 10 6 Mild positive 589 16 4 Social Network Analysis and Mining (2021) 11:33 1 3 33 Page 8 of 11 Fig 7 Multi-class classification of Sentiments Fig 8 Calculated mean of polarity over the period Fig 9 Calculated mean of subjectivity over the periodSocial Network Analysis and Mining (2021) 11:33 1 3 Page 9 of 11 33 larger limit We can see how instantly it changes the next day in some of the cases 4 2 4 Wordcloud After plotting all the numeric information from the tweeter, we use the text data to plot wordclouds for three categories, neutral, positive, and negative We create three different data sets using the sentiment value calculated previously Tweet text is used to plot these clouds, and more stop words are added to filter the words Figure 10 exhibits the wordcloud made for the positive, neutral, and negative text sentiments for the world data set The data set comprises of several type of words in which peoples’ opinion can be reflected and used to classify the text in a aforementioned categories Some categories along with its possible words as given below: • The words like flu, coronavirus, novel, and many other words in all wordcloud that does not belong to any one of the categories • The words like new cases, Wuhan, treatment, Chinese, Germany, Italy, confirmed, via, etc , are commonly used to express people opinions and reactions for spreading virus These words are seems like neither positive nor negative • The word space like health, commodities, crew, charge, vaccine, God, save, hospital, etc , is used to represent positiveness and signify the actions taken during the out- break • The words\n",
            "like pandemic, death, fear, etc , can be classi- fied as the negative space that shows the issues faced by people during the times of crisis in the world • The words representing actions like travel ban, fight back, infected with, etc , express a lot of emotions that may possess hate or angry towards China being so careless about this pandemic situation • The words like worse, cry, etc , can be seen as the death rates started increasing in various parts of the globe Figure 11 shows the wordcloud for the positive, neutral, and negative text sentiments for the Indian data set India had a mixed reaction on this outbreak of the coronavirus The rep- etition of words can be observed in the plots, and questions have been asked constantly to the government about the pan- demic situation Whenever, the infection rate get increases, and tweets with words like new, infected, confirmed, deaths, etc , can be observed at large scale in the wordcloud 4 2 5 BERT implementation We discussed how to fine-tune our BERT and prepare data for training We fetched pre-labeled data from a Github repository that worked with similar data (Savan 2020; Sun et al 2019a) Figure 12a shows the 6 emotion groups, and their corresponding label encodes assigned by the label encoder Figure 12c exhibits the label encodes for actual and predicted values We can observe that the actual label for serial number 10 is 1, i e , fear, whereas, the predicted label is 5, i e , surprise and remaining all others are predicted correctly Figure 12b exhibits validation accuracy as 0 9389 (i e , 93 89%) The MCC validation accuracy is based on the Matthews correlation coefficient (MCC) that is a widely used statistical rate that generate a high score prediction results We can also show the performance in terms of train- ing operations like the training loss through the line chart Overall, the evaluated accuracy reveals the strength of the proposed model in the sentiment analysis Fig 10 Wordcloud of the world data set Social Network Analysis and Mining (2021) 11:33 1 3 33 Page 10 of 11 5 Conclusion and future scope In this work, the sentiment analysis is performed with the help of the BERT model on the twitter data sets The data set is categorized on the basis of location of tweets made by people of India and rest of the world The col- lected\n",
            "tweets are taken at the time when there was lack of positiveness about the coronavirus around the world that impact their personal and professional lives Simultane- ously, it has been observed that people from India have relatively more positive communication on the twitter and less tendency towards spreading negativity The emotion analysis indicates the success or failure of the measures adopted by the government of a country in various cir - cumstances Further, it can be observed that the efficacy of taken measures for the people of a country that can support the government in taking more significant deci- sions to tackle novel coronavirus The overall performance of the proposed model in terms of the validation accuracy on the collected data sets is approximately 94% Author Contributions All authors have contributed in this research Funding This work was not funded by any agency Declarations Conflict of interest The section presents the compliance with ethical standards as per the journal guidelines to ensure the transparency and objectivity of the work The authors declare that they have no conflict of interest Ethical approval This article does not contain any studies with human participants or animals performed by any of the authors Fig 11 Wordcloud of the India data set Fig 12 Classification using BERTSocial Network Analysis and Mining (2021) 11:33 1 3 Page 11 of 11 33 References Agarwal A, Xie B, Vovsha I, Rambow O, Passonneau RJ (2011) Senti- ment analysis of twitter data In: Proceedings of the workshop on language in social media (LSM 2011), pp 30–38 Agarwal B, Mittal N (2013) Optimal feature selection for sentiment analysis In: International conference on intelligent text processing and computational linguistics, Springer, pp 13–24 Ahuja S, Dubey G (2017) Clustering and sentiment analysis on twitter data In: 2017 2nd international conference on telecommunication and networks (TEL-NET), IEEE, pp 1–5 Akhtar MS, Ghosal D, Ekbal A, Bhattacharyya P, Kurohashi S (2018) A multi-task ensemble framework for emotion, sentiment and intensity prediction Preprint arXiv: 1808 01216 Alhajji M, Al Khalifah A, Aljubran M, Alkhalifah M (2020) Sentiment analysis of tweets in saudi arabia regarding governmental preven- tive measures to contain covid-19 Alsaeedi A, Khan MZ (2019) A study on sentiment analysis techniques of twitter data Int J Adv Comput Sci Appl 10(2):361–374 Bakshi RK, Kaur N, Kaur R, Kaur G (2016) Opinion mining and senti- ment analysis In: 2016 3rd international conference on comput- ing for sustainable global development (INDIACom), IEEE, pp 452–455 Bouazizi M,\n",
            "Ohtsuki T (2017) A pattern-based approach for multi-class sentiment analysis in twitter IEEE Access 5:20617–20639 Castillo E, Cervantes O, Vilarino D, Báez D, Sánchez A (2015) Udlap: sentiment analysis using a graph based representation SemE- val-2015, p 556 Dave K, Lawrence S, Pennock DM (2003) Mining the peanut gallery: opinion extraction and semantic classification of product reviews In: Proceedings of the 12th international conference on World Wide Web, pp 519–528 Devlin J, Chang M-W, Lee K, Toutanova K (2018) Bert: pre-training of deep bidirectional transformers for language understanding Preprint arXiv: 1810 04805 Dubey AD (2020) Twitter sentiment analysis during covid19 outbreak Available at SSRN 3572023 Hasan A, Moin S, Karim A, Shamshirband S (2018) Machine learning- based sentiment analysis for twitter accounts Math Comput Appl 23(1):11 Kaur C, Sharma A (2020) Twitter sentiment analysis on coronavirus using textblob Technical report, EasyChairKim S-M, Hovy E (2006) Automatic identification of pro and con reasons in online reviews In: Proceedings of the COLING/ACL 2006 main conference poster sessions, pp 483–490 Liu B (2012) Sentiment analysis and opinion mining Synth Lect Hum Lang Technol 5(1):1–167 Medford RJ, Saleh SN, Sumarsono A, Perl TM, Lehmann CU (2020) An” infodemic”: Leveraging high-volume twitter data to under - stand public sentiment for the covid-19 outbreak medRxiv Muthusami R, Bharathi A, Saritha K (2020) Covid-19 outbreak: Tweet based analysis and visualization towards the influence of corona- virus in the world Gedrag en Organisatie 33(2) Pastor CK (2020) Sentiment analysis of filipinos and effects of extreme community quarantine due to coronavirus (covid-19) pandemic Available at SSRN 3574385 Prabhakar Kaila D, Prasad DA et al (2020) Informational flow on twit- ter-corona virus outbreak-topic modelling approach Int J Adv Res Eng Technol (IJARET) 11(3) Rajput NK, Grover BA, Rathi VK (2020) Word frequency and senti- ment analysis of twitter messages during coronavirus pandemic Preprint arXiv: 2004 03925 Sailunaz K, Alhajj R (2019) Emotion and sentiment analysis from twit- ter text J Comput Sci 36:101003 Savan V (2020) savan77/EmotionDetectionBERT GitHub https:// github com/ savan 77/ Emoti onDet ectio nBERT Shirzad MB, Keyvanpour MR (2015) A feature selection method based on minimum redundancy maximum relevance for learning to rank In: 2015 AI & Robotics (IRANOPEN), IEEE, pp 1–5 Sun C, Qiu X, Xu Y, Huang X (2019) How to\n",
            "\n"
          ]
        }
      ]
    },
    {
      "cell_type": "markdown",
      "source": [
        "# TRANSFORMERs"
      ],
      "metadata": {
        "id": "e6FvZp8X4ohF"
      }
    },
    {
      "cell_type": "code",
      "source": [
        "!pip install transformers"
      ],
      "metadata": {
        "id": "UXLwu1fb2fFF",
        "colab": {
          "base_uri": "https://localhost:8080/"
        },
        "outputId": "a11131c3-e2cf-484a-fcb4-f79e7cf6711b"
      },
      "execution_count": null,
      "outputs": [
        {
          "output_type": "stream",
          "name": "stdout",
          "text": [
            "Requirement already satisfied: transformers in /usr/local/lib/python3.10/dist-packages (4.35.2)\n",
            "Requirement already satisfied: filelock in /usr/local/lib/python3.10/dist-packages (from transformers) (3.13.1)\n",
            "Requirement already satisfied: huggingface-hub<1.0,>=0.16.4 in /usr/local/lib/python3.10/dist-packages (from transformers) (0.19.4)\n",
            "Requirement already satisfied: numpy>=1.17 in /usr/local/lib/python3.10/dist-packages (from transformers) (1.23.5)\n",
            "Requirement already satisfied: packaging>=20.0 in /usr/local/lib/python3.10/dist-packages (from transformers) (23.2)\n",
            "Requirement already satisfied: pyyaml>=5.1 in /usr/local/lib/python3.10/dist-packages (from transformers) (6.0.1)\n",
            "Requirement already satisfied: regex!=2019.12.17 in /usr/local/lib/python3.10/dist-packages (from transformers) (2023.6.3)\n",
            "Requirement already satisfied: requests in /usr/local/lib/python3.10/dist-packages (from transformers) (2.31.0)\n",
            "Requirement already satisfied: tokenizers<0.19,>=0.14 in /usr/local/lib/python3.10/dist-packages (from transformers) (0.15.0)\n",
            "Requirement already satisfied: safetensors>=0.3.1 in /usr/local/lib/python3.10/dist-packages (from transformers) (0.4.0)\n",
            "Requirement already satisfied: tqdm>=4.27 in /usr/local/lib/python3.10/dist-packages (from transformers) (4.66.1)\n",
            "Requirement already satisfied: fsspec>=2023.5.0 in /usr/local/lib/python3.10/dist-packages (from huggingface-hub<1.0,>=0.16.4->transformers) (2023.6.0)\n",
            "Requirement already satisfied: typing-extensions>=3.7.4.3 in /usr/local/lib/python3.10/dist-packages (from huggingface-hub<1.0,>=0.16.4->transformers) (4.5.0)\n",
            "Requirement already satisfied: charset-normalizer<4,>=2 in /usr/local/lib/python3.10/dist-packages (from requests->transformers) (3.3.2)\n",
            "Requirement already satisfied: idna<4,>=2.5 in /usr/local/lib/python3.10/dist-packages (from requests->transformers) (3.4)\n",
            "Requirement already satisfied: urllib3<3,>=1.21.1 in /usr/local/lib/python3.10/dist-packages (from requests->transformers) (2.0.7)\n",
            "Requirement already satisfied: certifi>=2017.4.17 in /usr/local/lib/python3.10/dist-packages (from requests->transformers) (2023.7.22)\n"
          ]
        }
      ]
    },
    {
      "cell_type": "code",
      "source": [
        "from transformers import AutoTokenizer, AutoModelForSeq2SeqLM"
      ],
      "metadata": {
        "id": "hooBBf_v6Cm-"
      },
      "execution_count": null,
      "outputs": []
    },
    {
      "cell_type": "code",
      "source": [
        "from transformers import T5Tokenizer, T5ForConditionalGeneration"
      ],
      "metadata": {
        "id": "5YGziSxJ4wF2"
      },
      "execution_count": null,
      "outputs": []
    },
    {
      "cell_type": "code",
      "source": [
        "t5_tokenizer = AutoTokenizer.from_pretrained(\"toloka/t5-large-for-text-aggregation\")\n",
        "t5_model = T5ForConditionalGeneration.from_pretrained(\"toloka/t5-large-for-text-aggregation\")"
      ],
      "metadata": {
        "colab": {
          "base_uri": "https://localhost:8080/",
          "height": 177,
          "referenced_widgets": [
            "ef1cb2de905f448884b0d2e001176bd4",
            "2aee9b4a1155456c813cce3aef3d47d5",
            "3fc3c8bb1f324fc4bfbcbc3bfa359585",
            "9186d95c50974a5cbe98e79b33208fb0",
            "b55c66a7bdc54a10968ab2915f920c19",
            "82df000513484584b4d814ebcca5f11d",
            "029c9c6249934ebf8a13b9fb752e9ed2",
            "e4b983f8f9d14e008e794a44eaffe058",
            "328cdce834ce43c8802c6613c6ca2230",
            "b02f00bb4c29469a9ba00544e6807aac",
            "6de909587b9246998d0db15d155bb116",
            "756235c0223d4891bd1386bbadc04f09",
            "644e2ce65967441a9845c762f4087954",
            "2a10bd06fa4d46e7b42408596ee38bc5",
            "f978726f12684313b8e6ec58e20df6e6",
            "ec65f8b0b0f24c32be4b31b5c69c6dd6",
            "0c6a0afb00b3451d920d0757161e5fc4",
            "03eb33e43ad64178910fff71bde328b4",
            "1848863be1cf47c299a88102e075473b",
            "c3c7f2cae72c448bbfac213b42006256",
            "615815d2b58e4392a2adcc0d49036b4c",
            "9b99cfdee1054b169456b1c7a3f0ed77",
            "48a063204f4d4acc9a3500a0ee5df0ec",
            "bd2562a13aea44c5a0bfb75e429991e1",
            "1503a10cf9e3493fba4640661daceea7",
            "01f8232bc5be4ab9b40b03a1dc5dd8b8",
            "e4af8e610b74464e8fdbc9704ceb6ed3",
            "cd2e95b6e8c841789673a16ca7afe41b",
            "0fdf63e5e09f4c3b8027dfab266642b2",
            "2a58fa0972d64f59abcbed5a0a137d07",
            "88354d3767424a07a2f84b11951c4d6a",
            "b167f256a95f4384a1c32ff95f4a1446",
            "d0fd055fcd904a3e96c6a25fa844ef17",
            "e84314da23d44043b97ff3dce9a0be68",
            "5c232aa8613742b0bd2fe2d65d934fb3",
            "8cd0c4628e69454986849f28d7145d84",
            "c379bac6c41c498dbeab7fe473611e4a",
            "9a1d91fbd9ce49abb9232ddfbb3cb35c",
            "5b9bfe45609d49a390eda9fc463fc216",
            "b2ebdcfdd9a945a7aac02071974f4b9c",
            "11044bb0beef4a0b878518dee67ca585",
            "1822499c3c684dc28648cab916521c8c",
            "315f4cf30c4143d4a6d92052a99d5105",
            "98bfafb2d46a407e98df941cb02d94f7",
            "72bbbc2ced8347eeaf56b0d71b25e411",
            "a421fb6324b245d2a2710d07ee79d47e",
            "9a5b79bb5a82474eb623591b4c3ffc88",
            "ebda7a3484e2441f8fd158a684222fd3",
            "75a15ec39d914aedbb3d6ffa79223800",
            "757e7d07177547d6889c8968b28585e0",
            "35909069dec140e38983cfc0ef09fc90",
            "492862d8d7d34d488589f77b96b2bb01",
            "9589da04c2f9466c94a1204ac751db48",
            "319d3f109172406aa785ca64ab8504da",
            "f8531c4047e440c2ab289e8a89e42694"
          ]
        },
        "id": "-ZEEfHxf8SHR",
        "outputId": "9a3c5b67-d249-40d9-a131-23d0632ba403"
      },
      "execution_count": null,
      "outputs": [
        {
          "output_type": "display_data",
          "data": {
            "text/plain": [
              "tokenizer_config.json:   0%|          | 0.00/1.95k [00:00<?, ?B/s]"
            ],
            "application/vnd.jupyter.widget-view+json": {
              "version_major": 2,
              "version_minor": 0,
              "model_id": "ef1cb2de905f448884b0d2e001176bd4"
            }
          },
          "metadata": {}
        },
        {
          "output_type": "display_data",
          "data": {
            "text/plain": [
              "tokenizer.json:   0%|          | 0.00/1.39M [00:00<?, ?B/s]"
            ],
            "application/vnd.jupyter.widget-view+json": {
              "version_major": 2,
              "version_minor": 0,
              "model_id": "756235c0223d4891bd1386bbadc04f09"
            }
          },
          "metadata": {}
        },
        {
          "output_type": "display_data",
          "data": {
            "text/plain": [
              "special_tokens_map.json:   0%|          | 0.00/1.79k [00:00<?, ?B/s]"
            ],
            "application/vnd.jupyter.widget-view+json": {
              "version_major": 2,
              "version_minor": 0,
              "model_id": "48a063204f4d4acc9a3500a0ee5df0ec"
            }
          },
          "metadata": {}
        },
        {
          "output_type": "display_data",
          "data": {
            "text/plain": [
              "config.json:   0%|          | 0.00/1.42k [00:00<?, ?B/s]"
            ],
            "application/vnd.jupyter.widget-view+json": {
              "version_major": 2,
              "version_minor": 0,
              "model_id": "e84314da23d44043b97ff3dce9a0be68"
            }
          },
          "metadata": {}
        },
        {
          "output_type": "display_data",
          "data": {
            "text/plain": [
              "pytorch_model.bin:   0%|          | 0.00/2.95G [00:00<?, ?B/s]"
            ],
            "application/vnd.jupyter.widget-view+json": {
              "version_major": 2,
              "version_minor": 0,
              "model_id": "72bbbc2ced8347eeaf56b0d71b25e411"
            }
          },
          "metadata": {}
        }
      ]
    },
    {
      "cell_type": "markdown",
      "source": [
        "# MODEL"
      ],
      "metadata": {
        "id": "ctTB_g1GQiZf"
      }
    },
    {
      "cell_type": "code",
      "source": [
        "import re\n",
        "\n",
        "def preprocess_text(text):\n",
        "  # Remove punctuation and newlines.\n",
        "  text = re.sub(r'[^\\w\\s]', '', text)\n",
        "  text = re.sub(r'\\n', ' ', text)\n",
        "\n",
        "  # Convert all characters to lowercase.\n",
        "  text = text.lower()\n",
        "\n",
        "  return text\n",
        "\n",
        "# Preprocess the chunked text.\n",
        "preprocessed_chunks = []\n",
        "for chunk in chunks:\n",
        "  preprocessed_chunks.append(preprocess_text(chunk))\n"
      ],
      "metadata": {
        "id": "O1_E2ta84y4k"
      },
      "execution_count": null,
      "outputs": []
    },
    {
      "cell_type": "code",
      "source": [
        "# preprocessed_chunks = np.array(preprocessed_chunks)"
      ],
      "metadata": {
        "id": "5quwR4h8BoHW"
      },
      "execution_count": null,
      "outputs": []
    },
    {
      "cell_type": "code",
      "source": [
        " type(preprocessed_chunks)"
      ],
      "metadata": {
        "colab": {
          "base_uri": "https://localhost:8080/"
        },
        "id": "4nWpiOWmTCis",
        "outputId": "5f205935-db05-4ea0-b995-90c47206abf8"
      },
      "execution_count": null,
      "outputs": [
        {
          "output_type": "execute_result",
          "data": {
            "text/plain": [
              "list"
            ]
          },
          "metadata": {},
          "execution_count": 10
        }
      ]
    },
    {
      "cell_type": "code",
      "source": [
        "import numpy as np"
      ],
      "metadata": {
        "id": "0e59ZNeNrSjz"
      },
      "execution_count": null,
      "outputs": []
    },
    {
      "cell_type": "code",
      "source": [
        "def generate_summary(model, chunk):\n",
        "    input_ids = t5_tokenizer.encode(chunk, return_tensors=\"pt\")\n",
        "\n",
        "    # Generate a summary for the chunk.\n",
        "    summary = model.generate(input_ids=input_ids, max_length=1024)\n",
        "    return summary\n",
        "\n",
        "# Generate a summary for each chunk.\n",
        "summaries = []\n",
        "for chunk in preprocessed_chunks:\n",
        "    summary_tuple = generate_summary(t5_model, chunk)\n",
        "    summaries.append(list(summary_tuple[0]))  # Append the summary part of the tuple\n",
        "\n",
        "# Now, summaries will contain the generated summaries as a list of tokens.\n",
        "\n"
      ],
      "metadata": {
        "id": "rgMurEHVByuK",
        "colab": {
          "base_uri": "https://localhost:8080/"
        },
        "outputId": "2c55fbf2-9d02-4f8f-b033-cdc2ad7c1fc4"
      },
      "execution_count": null,
      "outputs": [
        {
          "output_type": "stream",
          "name": "stderr",
          "text": [
            "Token indices sequence length is longer than the specified maximum sequence length for this model (634 > 512). Running this sequence through the model will result in indexing errors\n"
          ]
        }
      ]
    },
    {
      "cell_type": "code",
      "source": [
        "print(summaries)"
      ],
      "metadata": {
        "colab": {
          "base_uri": "https://localhost:8080/"
        },
        "id": "7ggd8laLt62D",
        "outputId": "7a8a9dc0-2f63-4da7-e9c9-7f1ffafaaf44"
      },
      "execution_count": null,
      "outputs": [
        {
          "output_type": "stream",
          "name": "stdout",
          "text": [
            "[[tensor(0), tensor(16), tensor(48), tensor(1040), tensor(62), tensor(1912), tensor(3), tensor(9), tensor(6493), tensor(1693), tensor(30), tensor(8), tensor(1113), tensor(13), tensor(4301), tensor(106), tensor(9), tensor(6722), tensor(16), tensor(569), tensor(783), tensor(5357), tensor(80), tensor(54), tensor(734), tensor(8), tensor(18537), tensor(11), tensor(6382), tensor(13), tensor(151), tensor(11), tensor(853), tensor(4921), tensor(135), tensor(139), tensor(315), tensor(5897), tensor(57), tensor(338), tensor(6493), tensor(1693), tensor(42), tensor(3474), tensor(5558), tensor(16), tensor(48), tensor(1040), tensor(62), tensor(43), tensor(261), tensor(192), tensor(331), tensor(3369), tensor(80), tensor(331), tensor(356), tensor(2579), tensor(8), tensor(10657), tensor(7), tensor(263), tensor(57), tensor(151), tensor(45), tensor(66), tensor(147), tensor(8), tensor(296), tensor(11), tensor(8), tensor(119), tensor(331), tensor(356), tensor(2579), tensor(8), tensor(10657), tensor(7), tensor(263), tensor(57), tensor(151), tensor(13), tensor(18222), tensor(62), tensor(43), tensor(16742), tensor(26), tensor(8), tensor(7452), tensor(13), tensor(8), tensor(6493), tensor(13774), tensor(209), tensor(5302), tensor(18811), tensor(8), tensor(1396), tensor(19), tensor(2852), tensor(182), tensor(1012), tensor(11), tensor(34), tensor(19), tensor(3122), tensor(38), tensor(3), tensor(9), tensor(583), tensor(1231), tensor(1585), tensor(21), tensor(251), tensor(1)], [tensor(0), tensor(32099), tensor(6493), tensor(1693), tensor(30), tensor(576), tensor(6961), tensor(2294), tensor(42), tensor(4301), tensor(106), tensor(9), tensor(6722), tensor(65), tensor(3), tensor(9), tensor(779), tensor(22494), tensor(300), tensor(8), tensor(796), tensor(1467), tensor(13), tensor(8), tensor(296), tensor(11), tensor(151), tensor(43), tensor(315), tensor(2441), tensor(30), tensor(48), tensor(22494), tensor(16), tensor(8), tensor(6678), tensor(796), tensor(4768), tensor(43), tensor(399), tensor(10816), tensor(8), tensor(6493), tensor(1693), tensor(30), tensor(576), tensor(6961), tensor(2294), tensor(16), tensor(48), tensor(1040), tensor(8), tensor(5921), tensor(13590), tensor(8), tensor(452), tensor(8479), tensor(16), tensor(8), tensor(607), tensor(13), tensor(2456), tensor(2622), tensor(442), tensor(30), tensor(19010), tensor(672), tensor(16), tensor(48), tensor(1040), tensor(8), tensor(5921), tensor(3), tensor(5605), tensor(900), tensor(51), tensor(2131), tensor(221), tensor(63), tensor(3), tensor(5605), tensor(900), tensor(51), tensor(2131), tensor(221), tensor(63), tensor(3), tensor(75), tensor(7), tensor(15), tensor(632), tensor(2128), tensor(18958), tensor(3), tensor(287), tensor(183), tensor(155), tensor(2662), tensor(157), tensor(3272), tensor(3), tensor(75), tensor(7), tensor(15), tensor(632), tensor(2128), tensor(18958), tensor(3), tensor(287), tensor(183), tensor(155), tensor(2662), tensor(157), tensor(3272), tensor(1)], [tensor(0), tensor(16), tensor(4220), tensor(17), tensor(204), tensor(62), tensor(2497), tensor(8), tensor(1341), tensor(161), tensor(11), tensor(4220), tensor(17), tensor(220), tensor(2497), tensor(8), tensor(4382), tensor(161), tensor(30), tensor(4301), tensor(106), tensor(9), tensor(18095), tensor(16), tensor(6678), tensor(633), tensor(2097), tensor(33), tensor(347), tensor(12), tensor(1912), tensor(6493), tensor(1693), tensor(3), tensor(1258), tensor(3767), tensor(3), tensor(15), tensor(17), tensor(491), tensor(1230), tensor(16), tensor(48), tensor(161), tensor(491), tensor(1024), tensor(354), tensor(354), tensor(23), tensor(3), tensor(15), tensor(17), tensor(491), tensor(43), tensor(13590), tensor(26), tensor(8), tensor(10657), tensor(7), tensor(1790), tensor(16), tensor(3), tensor(7066), tensor(76), tensor(1208), tensor(1360), tensor(491), tensor(1024), tensor(354), tensor(354), tensor(23), tensor(3), tensor(15), tensor(17), tensor(491), tensor(6503), tensor(16), tensor(430), tensor(161), tensor(3), tensor(9655), tensor(2562), tensor(3), tensor(15), tensor(17), tensor(491), tensor(43), tensor(261), tensor(8), tensor(50), tensor(4669), tensor(5141), tensor(362), tensor(1655), tensor(17127), tensor(3317), tensor(12), tensor(13590), tensor(8), tensor(10657), tensor(7), tensor(1790), tensor(16), tensor(3), tensor(7066), tensor(76), tensor(1208), tensor(1360), tensor(3), tensor(9655), tensor(2562), tensor(3), tensor(15), tensor(17), tensor(1)], [tensor(0), tensor(32099), tensor(6493), tensor(1693), tensor(30), tensor(576), tensor(6961), tensor(2294), tensor(34), tensor(19), tensor(16), tensor(1010), tensor(1271), tensor(24), tensor(151), tensor(33), tensor(3), tensor(89), tensor(3535), tensor(4632), tensor(13), tensor(8), tensor(3714), tensor(4301), tensor(106), tensor(9), tensor(18095), tensor(5536), tensor(53), tensor(300), tensor(8), tensor(7895), tensor(12255), tensor(52), tensor(3), tensor(15), tensor(17), tensor(491), tensor(6503), tensor(12255), tensor(52), tensor(3), tensor(15), tensor(17), tensor(491), tensor(6503), tensor(13018), tensor(3), tensor(15), tensor(17), tensor(491), tensor(43), tensor(261), tensor(8), tensor(19010), tensor(331), tensor(12), tensor(13590), tensor(8), tensor(22494), tensor(7), tensor(13), tensor(576), tensor(6961), tensor(2294), tensor(11), tensor(16), tensor(1010), tensor(1271), tensor(24), tensor(151), tensor(33), tensor(3), tensor(89), tensor(3535), tensor(4632), tensor(13), tensor(8), tensor(3714), tensor(4301), tensor(106), tensor(9), tensor(18095), tensor(5536), tensor(53), tensor(300), tensor(8), tensor(7895), tensor(2320), tensor(204), tensor(6981), tensor(7), tensor(8), tensor(464), tensor(13), tensor(8), tensor(4382), tensor(825), tensor(16), tensor(8), tensor(761), tensor(3944), tensor(8), tensor(3), tensor(6153), tensor(331), tensor(33), tensor(937), tensor(38), tensor(8), tensor(3785), tensor(12), tensor(3), tensor(9), tensor(853), tensor(7903), tensor(1)], [tensor(0), tensor(220), tensor(209), tensor(331), tensor(356), tensor(4537), tensor(3944), tensor(8), tensor(331), tensor(356), tensor(4537), tensor(3944), tensor(13009), tensor(13), tensor(8), tensor(826), tensor(2245), tensor(331), tensor(7346), tensor(53), tensor(11), tensor(2327), tensor(11), tensor(1801), tensor(13), tensor(8), tensor(2193), tensor(753), tensor(220), tensor(209), tensor(204), tensor(331), tensor(2327), tensor(11), tensor(1801), tensor(13), tensor(8), tensor(2193), tensor(753), tensor(314), tensor(209), tensor(204), tensor(331), tensor(1801), tensor(62), tensor(1738), tensor(8), tensor(19010), tensor(3305), tensor(21), tensor(5819), tensor(53), tensor(10657), tensor(7), tensor(30), tensor(576), tensor(6961), tensor(2294), tensor(11), tensor(169), tensor(8), tensor(19010), tensor(7346), tensor(49), tensor(11), tensor(8), tensor(3), tensor(17), tensor(1123), tensor(15), tensor(102), tensor(63), tensor(3), tensor(13306), tensor(7), tensor(21), tensor(331), tensor(7346), tensor(53), tensor(953), tensor(209), tensor(6981), tensor(7), tensor(8), tensor(792), tensor(381), tensor(13), tensor(10657), tensor(7), tensor(21527), tensor(45), tensor(8), tensor(19010), tensor(3305), tensor(24546), tensor(62), tensor(6774), tensor(192), tensor(331), tensor(3369), tensor(80), tensor(2579), tensor(8), tensor(10657), tensor(7), tensor(45), tensor(8), tensor(1297), tensor(296), tensor(11), tensor(430), tensor(2579), tensor(8), tensor(10657), tensor(1)], [tensor(0), tensor(32099), tensor(38), tensor(62), tensor(43), tensor(192), tensor(331), tensor(3369), tensor(62), tensor(103), tensor(59), tensor(43), tensor(46), tensor(2016), tensor(1573), tensor(12), tensor(169), tensor(1128), tensor(4191), tensor(12), tensor(482), tensor(8), tensor(511), tensor(331), tensor(356), tensor(32090), tensor(834), tensor(60), tensor(102), tensor(15310), tensor(32089), tensor(9), tensor(1478), tensor(5380), tensor(11), tensor(181), tensor(1947), tensor(2038), tensor(32088), tensor(26719), tensor(26719), tensor(834), tensor(235), tensor(32087), tensor(26719), tensor(32086), tensor(859), tensor(717), tensor(62), tensor(169), tensor(8), tensor(114), tensor(7), tensor(3), tensor(60), tensor(17), tensor(1123), tensor(15), tensor(17), tensor(7), tensor(32085), tensor(147), tensor(3), tensor(9), tensor(1059), tensor(1348), tensor(3), tensor(60), tensor(17), tensor(1123), tensor(15), tensor(17), tensor(7), tensor(147), tensor(3), tensor(9), tensor(1059), tensor(32084), tensor(3), tensor(60), tensor(17), tensor(1123), tensor(15), tensor(17), tensor(7), tensor(147), tensor(3), tensor(9), tensor(1059), tensor(32083), tensor(12), tensor(32082), tensor(834), tensor(235), tensor(32081), tensor(632), tensor(32080), tensor(16137), tensor(7), tensor(32079), tensor(16137), tensor(7), tensor(32078), tensor(23), tensor(26), tensor(32077), tensor(16137), tensor(32076), tensor(16137), tensor(32075), tensor(12), tensor(32074), tensor(13), tensor(32073), tensor(1)], [tensor(0), tensor(3), tensor(9618), tensor(485), tensor(11), tensor(1426), tensor(10696), tensor(3), tensor(9618), tensor(485), tensor(11), tensor(1426), tensor(10696), tensor(33), tensor(192), tensor(359), tensor(15905), tensor(21), tensor(6493), tensor(1693), tensor(8), tensor(3), tensor(9618), tensor(485), tensor(13), tensor(3), tensor(9), tensor(1499), tensor(19), tensor(8), tensor(13182), tensor(42), tensor(8), tensor(2793), tensor(13), tensor(8), tensor(13868), tensor(2008), tensor(190), tensor(1499), tensor(3), tensor(9), tensor(1478), tensor(5380), tensor(3), tensor(15), tensor(17), tensor(491), tensor(2722), tensor(3), tensor(18965), tensor(2046), tensor(3), tensor(15), tensor(17), tensor(491), tensor(846), tensor(3), tensor(63), tensor(76), tensor(3), tensor(15), tensor(17), tensor(491), tensor(846), tensor(3), tensor(63), tensor(76), tensor(3), tensor(15), tensor(17), tensor(491), tensor(1233), tensor(3), tensor(172), tensor(6146), tensor(23), tensor(3), tensor(15), tensor(17), tensor(491), tensor(846), tensor(3), tensor(172), tensor(6146), tensor(23), tensor(3), tensor(15), tensor(17), tensor(491), tensor(846), tensor(3), tensor(172), tensor(6146), tensor(23), tensor(3), tensor(15), tensor(17), tensor(491), tensor(846), tensor(3), tensor(172), tensor(6146), tensor(23), tensor(3), tensor(15), tensor(17), tensor(491), tensor(846), tensor(3), tensor(172), tensor(6146), tensor(23), tensor(3), tensor(1)], [tensor(0), tensor(16), tensor(48), tensor(3944), tensor(2647), tensor(26352), tensor(3), tensor(35), tensor(9886), tensor(6497), tensor(21), tensor(3), tensor(9), tensor(19903), tensor(3), tensor(7041), tensor(825), tensor(19), tensor(261), tensor(21), tensor(13868), tensor(13774), tensor(8), tensor(3), tensor(7041), tensor(825), tensor(2284), tensor(586), tensor(19903), tensor(23734), tensor(52), tensor(7), tensor(298), tensor(8), tensor(3), tensor(7041), tensor(508), tensor(825), tensor(2284), tensor(997), tensor(19903), tensor(23734), tensor(52), tensor(7), tensor(62), tensor(54), tensor(1399), tensor(7368), tensor(8), tensor(3), tensor(7041), tensor(825), tensor(12), tensor(129), tensor(8), tensor(5327), tensor(772), tensor(3), tensor(15994), tensor(314), tensor(1448), tensor(3126), tensor(1573), tensor(21), tensor(6493), tensor(1693), tensor(48), tensor(1375), tensor(6621), tensor(8), tensor(4432), tensor(11), tensor(11082), tensor(1030), tensor(13), tensor(8), tensor(4382), tensor(825), tensor(3), tensor(15994), tensor(305), tensor(6493), tensor(1693), tensor(338), tensor(1448), tensor(3126), tensor(1573), tensor(3), tensor(15994), tensor(431), tensor(6493), tensor(1693), tensor(338), tensor(1448), tensor(3126), tensor(1573), tensor(3), tensor(15994), tensor(489), tensor(6493), tensor(1693), tensor(338), tensor(1448), tensor(3126), tensor(1573), tensor(3), tensor(15994), tensor(505), tensor(6493), tensor(1693), tensor(338), tensor(1448), tensor(3126), tensor(1573), tensor(1)], [tensor(0), tensor(16), tensor(48), tensor(1375), tensor(62), tensor(2497), tensor(8), tensor(14434), tensor(772), tensor(45), tensor(69), tensor(4382), tensor(11082), tensor(5818), tensor(28), tensor(8), tensor(199), tensor(13), tensor(874), tensor(3), tensor(9), tensor(1161), tensor(15), tensor(2799), tensor(821), tensor(3), tensor(7959), tensor(15), tensor(7), tensor(314), tensor(204), tensor(209), tensor(381), tensor(13), tensor(114), tensor(7), tensor(11), tensor(3), tensor(60), tensor(17), tensor(1123), tensor(15), tensor(17), tensor(7), tensor(147), tensor(3), tensor(9), tensor(1059), tensor(13), tensor(97), tensor(45), tensor(460), tensor(3), tensor(7066), tensor(6503), tensor(11), tensor(668), tensor(3157), tensor(6503), tensor(6898), tensor(45), tensor(3), tensor(15994), tensor(7), tensor(305), tensor(3), tensor(9), tensor(11), tensor(431), tensor(3), tensor(9), tensor(62), tensor(7743), tensor(3), tensor(9), tensor(508), tensor(8598), tensor(16), tensor(114), tensor(7), tensor(11), tensor(3), tensor(60), tensor(17), tensor(1123), tensor(15), tensor(17), tensor(7), tensor(147), tensor(3), tensor(9), tensor(1059), tensor(13), tensor(97), tensor(45), tensor(460), tensor(3), tensor(7066), tensor(6503), tensor(11), tensor(944), tensor(3), tensor(9), tensor(2246), tensor(40), tensor(6503), tensor(314), tensor(204), tensor(204), tensor(13182), tensor(1693), tensor(62), tensor(43), tensor(261), tensor(1)], [tensor(0), tensor(16), tensor(8), tensor(16), tensor(8603), tensor(331), tensor(356), tensor(6898), tensor(2320), tensor(431), tensor(6981), tensor(7), tensor(8), tensor(1243), tensor(1426), tensor(10696), tensor(2620), tensor(147), tensor(3), tensor(9), tensor(1059), tensor(21), tensor(8), tensor(296), tensor(331), tensor(356), tensor(11), tensor(8), tensor(16), tensor(8603), tensor(331), tensor(356), tensor(6898), tensor(48), tensor(2320), tensor(3), tensor(15503), tensor(24), tensor(8), tensor(1243), tensor(701), tensor(21), tensor(8), tensor(296), tensor(331), tensor(356), tensor(19), tensor(7163), tensor(5676), tensor(120), tensor(1465), tensor(8248), tensor(120), tensor(2841), tensor(11), tensor(7157), tensor(2841), tensor(8), tensor(13182), tensor(5897), tensor(33), tensor(7163), tensor(5676), tensor(120), tensor(1465), tensor(8248), tensor(120), tensor(2841), tensor(11), tensor(7157), tensor(2841), tensor(1)], [tensor(0), tensor(3), tensor(15994), tensor(489), tensor(11338), tensor(1243), tensor(13), tensor(6493), tensor(7), tensor(147), tensor(3), tensor(9), tensor(1059), tensor(3), tensor(15994), tensor(505), tensor(11338), tensor(1243), tensor(13), tensor(1426), tensor(10696), tensor(147), tensor(8), tensor(1059), tensor(3), tensor(15994), tensor(668), tensor(1249), tensor(4057), tensor(13774), tensor(13), tensor(6493), tensor(7), tensor(3), tensor(15994), tensor(335), tensor(1448), tensor(3126), tensor(227), tensor(5944), tensor(1222), tensor(8), tensor(1499), tensor(331), tensor(62), tensor(482), tensor(386), tensor(315), tensor(331), tensor(3369), tensor(338), tensor(8), tensor(6493), tensor(2620), tensor(11338), tensor(3150), tensor(10657), tensor(1499), tensor(19), tensor(261), tensor(12), tensor(5944), tensor(1448), tensor(15328), tensor(8), tensor(1448), tensor(3126), tensor(2579), tensor(633), tensor(1234), tensor(114), tensor(1506), tensor(3474), tensor(3474), tensor(3474), tensor(3474), tensor(3474), tensor(3474), tensor(3474), tensor(3474), tensor(3474), tensor(3474), tensor(3474), tensor(3474), tensor(3474), tensor(3474), tensor(3474), tensor(3474), tensor(3474), tensor(3474), tensor(3474), tensor(3474), tensor(3474), tensor(3474), tensor(3474), tensor(3474), tensor(3474), tensor(3474), tensor(3474), tensor(3474), tensor(3474), tensor(3474), tensor(3474), tensor(3474), tensor(3474), tensor(3474), tensor(3474), tensor(3474), tensor(3474), tensor(3474), tensor(3474), tensor(3474), tensor(3474), tensor(3474), tensor(1)], [tensor(0), tensor(32099), tensor(1448), tensor(3126), tensor(11), tensor(6493), tensor(1693), tensor(30), tensor(8), tensor(19010), tensor(331), tensor(356), tensor(2320), tensor(850), tensor(1267), tensor(8), tensor(1448), tensor(3126), tensor(21), tensor(8), tensor(1465), tensor(7163), tensor(11), tensor(2841), tensor(6493), tensor(7), tensor(21), tensor(8), tensor(16), tensor(8603), tensor(331), tensor(356), tensor(2320), tensor(850), tensor(115), tensor(1267), tensor(8), tensor(3783), tensor(23734), tensor(7), tensor(21), tensor(1805), tensor(11), tensor(15439), tensor(2620), tensor(32093), tensor(13), tensor(8), tensor(32092), tensor(8), tensor(1234), tensor(114), tensor(2131), tensor(221), tensor(3113), tensor(1687), tensor(2971), tensor(672), tensor(32091), tensor(11), tensor(32090), tensor(151), tensor(114), tensor(32089), tensor(2971), tensor(32088), tensor(3), tensor(4271), tensor(3), tensor(3914), tensor(32087), tensor(2320), tensor(586), tensor(115), tensor(1267), tensor(8), tensor(32086), tensor(11241), tensor(32085), tensor(11241), tensor(114), tensor(32084), tensor(114), tensor(32083), tensor(632), tensor(32082), tensor(3), tensor(4271), tensor(3), tensor(3914), tensor(32081), tensor(3), tensor(32080), tensor(4271), tensor(3), tensor(3914), tensor(32079), tensor(51), tensor(32078), tensor(9), tensor(32077), tensor(7041), tensor(32076), tensor(11), tensor(32075), tensor(32), tensor(7633), tensor(32074), tensor(45), tensor(19010), tensor(32073), tensor(12252), tensor(19), tensor(32072), tensor(1)], [tensor(0), tensor(3), tensor(15994), tensor(850), tensor(1448), tensor(3126), tensor(13), tensor(8), tensor(18222), tensor(331), tensor(356), tensor(3), tensor(15994), tensor(586), tensor(6493), tensor(1693), tensor(13), tensor(19010), tensor(331), tensor(16), tensor(13339), tensor(13), tensor(8), tensor(511), tensor(1038), tensor(2542), tensor(30), tensor(7951), tensor(1499), tensor(3026), tensor(11), tensor(25850), tensor(3), tensor(24703), tensor(7), tensor(2141), tensor(49), tensor(3), tensor(1572), tensor(1179), tensor(2266), tensor(3), tensor(9), tensor(1478), tensor(5380), tensor(3), tensor(9), tensor(3), tensor(226), tensor(23), tensor(15), tensor(3), tensor(115), tensor(3), tensor(1621), tensor(208), tensor(524), tensor(18994), tensor(3), tensor(9), tensor(3), tensor(115), tensor(107), tensor(21148), tensor(1208), tensor(63), tensor(9), tensor(3), tensor(102), tensor(3), tensor(10923), tensor(32), tensor(107), tensor(17155), tensor(3), tensor(7), tensor(846), tensor(3), tensor(9), tensor(810), tensor(30), tensor(6493), tensor(1693), tensor(13), tensor(19010), tensor(331), tensor(16), tensor(13339), tensor(13), tensor(8), tensor(511), tensor(1038), tensor(2542), tensor(30), tensor(3), tensor(17), tensor(18329), tensor(11), tensor(5275), tensor(3), tensor(23), tensor(15), tensor(15), tensor(15), tensor(3), tensor(1572), tensor(3479), tensor(2266), tensor(3769), tensor(3), tensor(19272), tensor(5605), tensor(3), tensor(52), tensor(1)], [tensor(0), tensor(3), tensor(9), tensor(1230), tensor(6493), tensor(1693), tensor(13), tensor(19010), tensor(3744), tensor(383), tensor(4301), tensor(106), tensor(9), tensor(18095), tensor(2131), tensor(221), tensor(3113), tensor(3), tensor(23), tensor(15), tensor(15), tensor(15), tensor(592), tensor(305), tensor(24643), tensor(2517), tensor(24643), tensor(3288), tensor(212), tensor(11656), tensor(32), tensor(3), tensor(15), tensor(3), tensor(2110), tensor(208), tensor(8386), tensor(3), tensor(32), tensor(3), tensor(6372), tensor(291), tensor(77), tensor(32), tensor(3), tensor(26), tensor(3), tensor(7), tensor(12916), tensor(20095), tensor(3), tensor(9), tensor(3), tensor(7), tensor(9), tensor(107), tensor(52), tensor(9), tensor(3), tensor(157), tensor(3), tensor(9), tensor(3), tensor(7), tensor(9), tensor(107), tensor(52), tensor(9), tensor(3), tensor(157), tensor(6503), tensor(6493), tensor(1693), tensor(13), tensor(19010), tensor(3744), tensor(383), tensor(4301), tensor(106), tensor(9), tensor(18095), tensor(2131), tensor(221), tensor(3113), tensor(3), tensor(23), tensor(15), tensor(15), tensor(15), tensor(592), tensor(3097), tensor(4552), tensor(3747), tensor(519), tensor(3), tensor(5319), tensor(115), tensor(1024), tensor(4031), tensor(3), tensor(1258), tensor(173), tensor(9), tensor(3), tensor(26), tensor(3), tensor(5319), tensor(7), tensor(9), tensor(26), tensor(3), tensor(157), tensor(3), tensor(9), tensor(1)], [tensor(0), tensor(1)]]\n"
          ]
        }
      ]
    },
    {
      "cell_type": "code",
      "source": [
        "summary1 = \"\"\n",
        "for sum in summaries:\n",
        "  decoded_summary = t5_tokenizer.decode(sum, skip_special_tokens=True)\n",
        "  summary1 += decoded_summary"
      ],
      "metadata": {
        "id": "s9SQAV4yt8EB"
      },
      "execution_count": null,
      "outputs": []
    },
    {
      "cell_type": "code",
      "source": [
        "summary1"
      ],
      "metadata": {
        "colab": {
          "base_uri": "https://localhost:8080/",
          "height": 729
        },
        "id": "YmD9ANiBuJaL",
        "outputId": "5cfef58c-f997-483a-9734-89a727fb17b4"
      },
      "execution_count": null,
      "outputs": [
        {
          "output_type": "execute_result",
          "data": {
            "text/plain": [
              "'in this paper we perform a sentiment analysis on the impact of corona virus in social media platforms one can understand the attitudes and feelings of people and classify them into different categories by using sentiment analysis or opinion mining in this paper we have used two data sets one data set contains the tweets made by people from all over the world and the other data set contains the tweets made by people of india we have validated the accuracy of the sentiment classification 1 introduction nowadays the internet is becoming very popular and it is serving as a cost effective platform for informationsentiment analysis on covid19 or corona virus has a major outbreak around the various parts of the world and people have different views on this outbreak in the literature various researchers have performed the sentiment analysis on covid19 in this paper the authors analyse the public opinions in the form of reviews comments post on twitter etc in this paper the authors shivam pandey shivam pandey cse045gmail com amit jakhar cse045gmail com amit jakharin sect 2 we discuss the related work and sect 3 discuss the proposed work on coronavirus in literature several techniques are available to perform sentiment analysis kaplan et al 2015 in this work alhajji et al have analysed the tweets published in january 2019 alhajji et al 2020 in another work rajput et al have used the latent dirichlet allocation technique to analyse the tweets published in january 2019 rajput etsentiment analysis on covid19 it is inferred that people are frightened of the novel coronavirus storming around the globe kaur et al 2020 kaur et al 2020 pastor et al have used the twitter data to analyse the outbreaks of covid19 and inferred that people are frightened of the novel coronavirus storming around the globe figure 2 exhibits the working of the proposed model in the training phase the tagged data are provided as the input to a classifier3 1 data set preparation phase the data set preparation phase comprises of the following steps data scraping and cleaning and selection of the relevant features 3 1 2 data cleaning and selection of the relevant features 4 1 2 data selection we select the twitter feed for extracting tweets on covid19 and use the twitter scraper and the tweepy apis for data scraping table 1 exhibits the total number of tweets extracted from the twitter feed thereafter we construct two data sets one contains the tweets from the entire world and another contains the tweetas we have two data sets we do not have an appropriate method to use location filter to create the second data set_repliedagarwal and mittal 2013 replies replies_to replies among others we use the likes retweets over a period average retweets over a period retweets over a period to_to0urlsurlsidurlurl to ofpolarity and subjectivity polarity and subjectivity are two important metrics for sentiment analysis the polarity of a text is the intensity or the strength of the emotion shown through text agarwal et al 2011 akhtar et al 2018 yu et al 2018 yu et al 2017 zaidi et al 2018 zaidi et al 2018 zaidi et al 2018 zaidi et al 2018 zaidi in this phase bidirectional encoding representation for a transformer bert model is used for emotion classification the bert model uses 12 transformer encoders while the bert large model uses 24 transformer encoders we can fine tune the bert model to get the desired results fig 4 word cloud method for sentiment analysis this section presents the implementation and experimental details of the proposed model fig 5 sentiment analysis using word cloud method fig 6 sentiment analysis using word cloud method fig 7 sentiment analysis using word cloud method fig 8 sentiment analysis using word cloud methodin this section we discuss the evaluated results from our proposed experimental setup with the help of five afore mentioned performance metrices 4 2 1 number of likes and retweets over a period of time from 20 jan 2020 and 9 mar 2020 respectively from figs 5 a and 6 a we observe a large hike in likes and retweets over a period of time from 20 jan 2020 and 25 april 2020 4 2 2 intensity analysis we have usedin the indian data set respectively figure 6 exhibits the mean subjectivity values over a period for the world data set and the indian data set respectively this figure reveals that the mean value for the world data set is neutral weakly positive mildly negative and strongly negative the intensity categories are neutral weakly positive mildly negative and strongly negativefig 7 calculated mean of sentiments over a period fig 8 calculated mean of subjectivity over the period fig 9 multiclass classification of sentiments fig 10 word cloud after plotting the text data we create three different data sets using the sentiment values calculated previously tweet text is used to plot word clouds the word cloud contains several words like news opinion opinion opinion opinion opinion opinion opinion opinion opinion opinion opinion opinion opinion opinion opinion opinion opinion opinion opinion opinion opinion opinion opinion opinion opinion opinion opinion opinion opinion opinion opinion opinion opinion opinion opinion opinion opinion opinion opinion opinion opinion opinionword cloud and sentiment analysis on the twitter data set figure 11 shows the word cloud for the positive neutral and negative sentiments for the indian data set figure 11b shows the label encodes for actual and predicted values of the the words like pandemic death fear etc and people like fear 93 89 figure 12b shows the labels labels like like0 93 89 93 89mabert andoected from twitterlection isfig 11 word cloud of the india data set fig 12 sentiment analysis of twitter data in proceedings of the second international conference on intelligent text processing and computational linguistics springer pp 1324 agarwal a xie b vovchenko a bhattacharyya p kurohashi s 2018 a study on sentiment analysis of twitter data in proceedings of the second international conference on telecommunication and networks ieee pp 452455 bakshi ra 2015 sentiment analysis of twitter accounts during coronavirus pandemic ieee access 52061720639 castillo e cervantes o vilarino d sánchez a sahra k a sahra k 2020 sentiment analysis of twitter accounts during coronavirus pandemic ieee access 3573383 prabhakar kaila d prasad k a'"
            ],
            "application/vnd.google.colaboratory.intrinsic+json": {
              "type": "string"
            }
          },
          "metadata": {},
          "execution_count": 15
        }
      ]
    }
  ]
}